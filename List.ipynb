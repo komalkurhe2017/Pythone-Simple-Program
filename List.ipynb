{
 "cells": [
  {
   "cell_type": "code",
   "execution_count": 11,
   "id": "e721b446",
   "metadata": {},
   "outputs": [
    {
     "name": "stdout",
     "output_type": "stream",
     "text": [
      "['komal', 'supriya', 'sapna', 'mayyuri']\n"
     ]
    }
   ],
   "source": [
    "name=[\"komal\",\"supriya\",\"sapna\",\"mayyuri\"]\n",
    "print(name)"
   ]
  },
  {
   "cell_type": "code",
   "execution_count": 12,
   "id": "61a85a47",
   "metadata": {},
   "outputs": [
    {
     "data": {
      "text/plain": [
       "list"
      ]
     },
     "execution_count": 12,
     "metadata": {},
     "output_type": "execute_result"
    }
   ],
   "source": [
    "type(name)"
   ]
  },
  {
   "cell_type": "code",
   "execution_count": 13,
   "id": "d128f8b2",
   "metadata": {},
   "outputs": [
    {
     "name": "stdout",
     "output_type": "stream",
     "text": [
      "['komal', 'supriya', 'sapna', 'mayyuri', 'kajal']\n"
     ]
    }
   ],
   "source": [
    "name=[\"komal\",\"supriya\",\"sapna\",\"mayyuri\"]\n",
    "name.append(\"kajal\")\n",
    "print(name)\n"
   ]
  },
  {
   "cell_type": "code",
   "execution_count": 14,
   "id": "db4de8df",
   "metadata": {},
   "outputs": [
    {
     "name": "stdout",
     "output_type": "stream",
     "text": [
      "0\n",
      "1\n",
      "2\n",
      "3\n"
     ]
    }
   ],
   "source": [
    "list=[]\n",
    "for x in range(4):\n",
    "    \n",
    "    print(x)"
   ]
  },
  {
   "cell_type": "code",
   "execution_count": 17,
   "id": "094a1c00",
   "metadata": {},
   "outputs": [
    {
     "name": "stdout",
     "output_type": "stream",
     "text": [
      "enter the marks...67\n",
      "i got 1st class: \n"
     ]
    }
   ],
   "source": [
    "marks=int(input(\"enter the marks...\"))\n",
    "if marks>=75 and marks<=100:\n",
    "    print(\"i got distinction: \")\n",
    "elif marks>=60:\n",
    "    print(\"i got 1st class: \")\n",
    "elif marks>=40:\n",
    "    print(\"i got 2nd class: \")\n",
    "elif marks>=35:\n",
    "    print(\"pass\")\n",
    "elif marks<35 and marks>=0:\n",
    "        print(\"failed.....!!!\")\n",
    "else:\n",
    "    print(\"this is wrong input....\")"
   ]
  },
  {
   "cell_type": "code",
   "execution_count": 18,
   "id": "2cd35d68",
   "metadata": {},
   "outputs": [
    {
     "name": "stdout",
     "output_type": "stream",
     "text": [
      "enter the marks...76\n",
      "i got distinction: \n",
      "enter the marks...56\n",
      "i got 2nd class: \n",
      "enter the marks...34\n",
      "failed.....!!!\n"
     ]
    }
   ],
   "source": [
    "for i in range (3):\n",
    "    marks=int(input(\"enter the marks...\"))\n",
    "    if marks>=75 and marks<=100:\n",
    "        print(\"i got distinction: \")\n",
    "    elif marks>=60:\n",
    "        print(\"i got 1st class: \")\n",
    "    elif marks>=40:\n",
    "        print(\"i got 2nd class: \")\n",
    "    elif marks>=35:\n",
    "        print(\"pass\")\n",
    "    elif marks<35 and marks>=0:\n",
    "            print(\"failed.....!!!\")\n",
    "    else:\n",
    "        print(\"this is wrong input....\")"
   ]
  },
  {
   "cell_type": "code",
   "execution_count": 19,
   "id": "cf312ef4",
   "metadata": {},
   "outputs": [
    {
     "name": "stdout",
     "output_type": "stream",
     "text": [
      "0\n",
      "0\n",
      "1\n",
      "0\n",
      "1\n",
      "2\n"
     ]
    }
   ],
   "source": [
    "list=[]\n",
    "for x in range(4):\n",
    "    for y in range (x):\n",
    "        print(y)"
   ]
  },
  {
   "cell_type": "code",
   "execution_count": 20,
   "id": "d6cff8bb",
   "metadata": {},
   "outputs": [
    {
     "name": "stdout",
     "output_type": "stream",
     "text": [
      "['supriya', 'kajal', 'sapna', 'mayuri']\n"
     ]
    }
   ],
   "source": [
    "name=[\"komal\",\"supriya\",\"kajal\",\"sapna\",\"mayuri\"]\n",
    "name.remove(\"komal\")\n",
    "print(name)"
   ]
  },
  {
   "cell_type": "code",
   "execution_count": 21,
   "id": "ceba6d08",
   "metadata": {},
   "outputs": [
    {
     "name": "stdout",
     "output_type": "stream",
     "text": [
      "['supriya', 'kajal', 'sapna', 'mayuri', 'sayli']\n"
     ]
    }
   ],
   "source": [
    "name.append(\"sayli\")\n",
    "print(name)"
   ]
  },
  {
   "cell_type": "code",
   "execution_count": 22,
   "id": "db295f27",
   "metadata": {},
   "outputs": [
    {
     "name": "stdout",
     "output_type": "stream",
     "text": [
      "['supriya', 'kajal', 'sapna', 'mayuri']\n"
     ]
    }
   ],
   "source": [
    "name.pop()\n",
    "print(name)"
   ]
  },
  {
   "cell_type": "code",
   "execution_count": 23,
   "id": "41aa0742",
   "metadata": {},
   "outputs": [
    {
     "name": "stdout",
     "output_type": "stream",
     "text": [
      "enter the name....riya\n",
      "enter the name....kaju\n",
      "enter the name....kalu\n",
      "['komal', 'supriya', 'kajal', 'sapna', 'mayuri', 'riya', 'kaju', 'kalu']\n"
     ]
    }
   ],
   "source": [
    "name=[\"komal\",\"supriya\",\"kajal\",\"sapna\",\"mayuri\"]\n",
    "for x in range(3):\n",
    "    x=input(\"enter the name....\")\n",
    "    name.append(x)\n",
    "print(name)\n"
   ]
  },
  {
   "cell_type": "code",
   "execution_count": 24,
   "id": "5c0b8395",
   "metadata": {},
   "outputs": [
    {
     "data": {
      "text/plain": [
       "'kalu'"
      ]
     },
     "execution_count": 24,
     "metadata": {},
     "output_type": "execute_result"
    }
   ],
   "source": [
    "name.pop()"
   ]
  },
  {
   "cell_type": "code",
   "execution_count": 25,
   "id": "4e561012",
   "metadata": {},
   "outputs": [
    {
     "name": "stdout",
     "output_type": "stream",
     "text": [
      "['komal', 'supriya', 'kajal', 'sapna', 'mayuri', 'riya']\n"
     ]
    }
   ],
   "source": [
    "name.pop()\n",
    "print(name)"
   ]
  },
  {
   "cell_type": "code",
   "execution_count": 26,
   "id": "05d08bfb",
   "metadata": {},
   "outputs": [
    {
     "name": "stdout",
     "output_type": "stream",
     "text": [
      "['komal', 'jaya', 'supriya', 'kajal', 'sapna', 'mayuri', 'riya']\n"
     ]
    }
   ],
   "source": [
    "name.insert(1,\"jaya\")\n",
    "print(name)"
   ]
  },
  {
   "cell_type": "code",
   "execution_count": null,
   "id": "1b5b3d92",
   "metadata": {},
   "outputs": [],
   "source": []
  }
 ],
 "metadata": {
  "kernelspec": {
   "display_name": "Python 3 (ipykernel)",
   "language": "python",
   "name": "python3"
  },
  "language_info": {
   "codemirror_mode": {
    "name": "ipython",
    "version": 3
   },
   "file_extension": ".py",
   "mimetype": "text/x-python",
   "name": "python",
   "nbconvert_exporter": "python",
   "pygments_lexer": "ipython3",
   "version": "3.9.7"
  }
 },
 "nbformat": 4,
 "nbformat_minor": 5
}
