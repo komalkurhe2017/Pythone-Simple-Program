{
 "cells": [
  {
   "cell_type": "code",
   "execution_count": 1,
   "id": "74e5e63f",
   "metadata": {},
   "outputs": [
    {
     "name": "stdout",
     "output_type": "stream",
     "text": [
      "('shrirampur', 'belapur', 'ahmednagar', 'pune')\n",
      "<class 'tuple'>\n"
     ]
    }
   ],
   "source": [
    "##Tuple\n",
    "city=(\"shrirampur\",\"belapur\",\"ahmednagar\",\"pune\")\n",
    "print(city)\n",
    "print(type(city))"
   ]
  },
  {
   "cell_type": "code",
   "execution_count": 2,
   "id": "472ed90b",
   "metadata": {},
   "outputs": [
    {
     "name": "stdout",
     "output_type": "stream",
     "text": [
      "('shrirampur', 'belapur', 'ahmednagar')\n"
     ]
    }
   ],
   "source": [
    "ad=city[:3]\n",
    "print(ad)"
   ]
  },
  {
   "cell_type": "code",
   "execution_count": 3,
   "id": "3f0c1620",
   "metadata": {},
   "outputs": [
    {
     "name": "stdout",
     "output_type": "stream",
     "text": [
      "enter the city: shrirampur\n",
      "enter the city: Belapur\n",
      "enter the city: Nagar\n",
      "enter the city: Pune\n",
      "()\n"
     ]
    }
   ],
   "source": [
    "city=()\n",
    "for x in range(4):\n",
    "    city_new=input(\"enter the city: \")\n",
    "print(city)"
   ]
  },
  {
   "cell_type": "code",
   "execution_count": 5,
   "id": "e5d666af",
   "metadata": {},
   "outputs": [
    {
     "ename": "AttributeError",
     "evalue": "'tuple' object has no attribute 'append'",
     "output_type": "error",
     "traceback": [
      "\u001b[1;31m---------------------------------------------------------------------------\u001b[0m",
      "\u001b[1;31mAttributeError\u001b[0m                            Traceback (most recent call last)",
      "\u001b[1;32m~\\AppData\\Local\\Temp/ipykernel_8840/1775901854.py\u001b[0m in \u001b[0;36m<module>\u001b[1;34m\u001b[0m\n\u001b[0;32m      1\u001b[0m \u001b[0mcity\u001b[0m\u001b[1;33m=\u001b[0m\u001b[1;33m(\u001b[0m\u001b[1;34m\"shrirampur\"\u001b[0m\u001b[1;33m,\u001b[0m\u001b[1;34m\"belapur\"\u001b[0m\u001b[1;33m,\u001b[0m\u001b[1;34m\"ahmednagar\"\u001b[0m\u001b[1;33m,\u001b[0m\u001b[1;34m\"pune\"\u001b[0m\u001b[1;33m)\u001b[0m\u001b[1;33m\u001b[0m\u001b[1;33m\u001b[0m\u001b[0m\n\u001b[1;32m----> 2\u001b[1;33m \u001b[0mcity\u001b[0m\u001b[1;33m.\u001b[0m\u001b[0mappend\u001b[0m\u001b[1;33m(\u001b[0m\u001b[1;33m)\u001b[0m\u001b[1;33m\u001b[0m\u001b[1;33m\u001b[0m\u001b[0m\n\u001b[0m\u001b[0;32m      3\u001b[0m \u001b[0mprint\u001b[0m\u001b[1;33m(\u001b[0m\u001b[0mcity\u001b[0m\u001b[1;33m)\u001b[0m\u001b[1;33m\u001b[0m\u001b[1;33m\u001b[0m\u001b[0m\n",
      "\u001b[1;31mAttributeError\u001b[0m: 'tuple' object has no attribute 'append'"
     ]
    }
   ],
   "source": [
    "city=(\"shrirampur\",\"belapur\",\"ahmednagar\",\"pune\")\n",
    "city.append()\n",
    "print(city)\n"
   ]
  },
  {
   "cell_type": "code",
   "execution_count": 6,
   "id": "b134b6e1",
   "metadata": {},
   "outputs": [
    {
     "ename": "AttributeError",
     "evalue": "'tuple' object has no attribute 'pop'",
     "output_type": "error",
     "traceback": [
      "\u001b[1;31m---------------------------------------------------------------------------\u001b[0m",
      "\u001b[1;31mAttributeError\u001b[0m                            Traceback (most recent call last)",
      "\u001b[1;32m~\\AppData\\Local\\Temp/ipykernel_8840/3347389746.py\u001b[0m in \u001b[0;36m<module>\u001b[1;34m\u001b[0m\n\u001b[0;32m      1\u001b[0m \u001b[0mcity\u001b[0m\u001b[1;33m=\u001b[0m\u001b[1;33m(\u001b[0m\u001b[1;34m\"shrirampur\"\u001b[0m\u001b[1;33m,\u001b[0m\u001b[1;34m\"belapur\"\u001b[0m\u001b[1;33m,\u001b[0m\u001b[1;34m\"ahmednagar\"\u001b[0m\u001b[1;33m,\u001b[0m\u001b[1;34m\"pune\"\u001b[0m\u001b[1;33m)\u001b[0m\u001b[1;33m\u001b[0m\u001b[1;33m\u001b[0m\u001b[0m\n\u001b[1;32m----> 2\u001b[1;33m \u001b[0mcity\u001b[0m\u001b[1;33m.\u001b[0m\u001b[0mpop\u001b[0m\u001b[1;33m(\u001b[0m\u001b[1;33m)\u001b[0m\u001b[1;33m\u001b[0m\u001b[1;33m\u001b[0m\u001b[0m\n\u001b[0m\u001b[0;32m      3\u001b[0m \u001b[0mprint\u001b[0m\u001b[1;33m(\u001b[0m\u001b[0mcity\u001b[0m\u001b[1;33m)\u001b[0m\u001b[1;33m\u001b[0m\u001b[1;33m\u001b[0m\u001b[0m\n",
      "\u001b[1;31mAttributeError\u001b[0m: 'tuple' object has no attribute 'pop'"
     ]
    }
   ],
   "source": [
    "city=(\"shrirampur\",\"belapur\",\"ahmednagar\",\"pune\")\n",
    "city.pop()\n",
    "print(city)\n"
   ]
  },
  {
   "cell_type": "code",
   "execution_count": 7,
   "id": "ddb46e8f",
   "metadata": {},
   "outputs": [
    {
     "name": "stdout",
     "output_type": "stream",
     "text": [
      "('shrirampur', 'belapur', 'ahmednagar', 'pune', 'shrirampur1', 'belapur1', 'ahmednagar1', 'pune1')\n"
     ]
    }
   ],
   "source": [
    "city=(\"shrirampur\",\"belapur\",\"ahmednagar\",\"pune\")\n",
    "new_city=(\"shrirampur1\",\"belapur1\",\"ahmednagar1\",\"pune1\")\n",
    "city_123=city+new_city\n",
    "print(city_123)\n"
   ]
  },
  {
   "cell_type": "markdown",
   "id": "79769580",
   "metadata": {},
   "source": [
    "# Set"
   ]
  },
  {
   "cell_type": "code",
   "execution_count": 8,
   "id": "6f2645b4",
   "metadata": {},
   "outputs": [
    {
     "name": "stdout",
     "output_type": "stream",
     "text": [
      "{'shrirampur', 'belapur', 'ahmednagar', 'pune'}\n",
      "<class 'set'>\n"
     ]
    }
   ],
   "source": [
    "city={\"shrirampur\",\"belapur\",\"ahmednagar\",\"pune\"}\n",
    "print(city)\n",
    "print(type(city))\n"
   ]
  },
  {
   "cell_type": "code",
   "execution_count": 9,
   "id": "3b6ef409",
   "metadata": {},
   "outputs": [
    {
     "name": "stdout",
     "output_type": "stream",
     "text": [
      "{'shrirampur1', 'pune', 'shrirampur', 'belapur', 'pune1', 'ahmednagar1', 'ahmednagar', 'belapur1'}\n"
     ]
    }
   ],
   "source": [
    "city={\"shrirampur\",\"belapur\",\"ahmednagar\",\"pune\"}\n",
    "new_city={\"shrirampur1\",\"belapur1\",\"ahmednagar1\",\"pune1\"}\n",
    "ab=city.union(new_city)\n",
    "print(ab)"
   ]
  },
  {
   "cell_type": "code",
   "execution_count": 10,
   "id": "adbba1a7",
   "metadata": {},
   "outputs": [
    {
     "name": "stdout",
     "output_type": "stream",
     "text": [
      "{'shrirampur', 'belapur', 'ahmednagar'}\n"
     ]
    }
   ],
   "source": [
    "city.remove(\"pune\")\n",
    "print(city)"
   ]
  },
  {
   "cell_type": "code",
   "execution_count": null,
   "id": "ede4690c",
   "metadata": {},
   "outputs": [],
   "source": []
  },
  {
   "cell_type": "code",
   "execution_count": 11,
   "id": "03410fa8",
   "metadata": {},
   "outputs": [
    {
     "name": "stdout",
     "output_type": "stream",
     "text": [
      "{'shrirampur', 'belapur', 'ahmednagar'}\n"
     ]
    }
   ],
   "source": [
    "city.discard(\"pune\")\n",
    "print(city)"
   ]
  },
  {
   "cell_type": "code",
   "execution_count": 12,
   "id": "0d474012",
   "metadata": {},
   "outputs": [
    {
     "name": "stdout",
     "output_type": "stream",
     "text": [
      "{'shrirampur', 'belapur', 'ahmednagar'}\n"
     ]
    }
   ],
   "source": [
    "city.discard(\"sangali\")\n",
    "print(city)"
   ]
  },
  {
   "cell_type": "code",
   "execution_count": 13,
   "id": "8b9232b3",
   "metadata": {},
   "outputs": [
    {
     "ename": "KeyError",
     "evalue": "'sangali'",
     "output_type": "error",
     "traceback": [
      "\u001b[1;31m---------------------------------------------------------------------------\u001b[0m",
      "\u001b[1;31mKeyError\u001b[0m                                  Traceback (most recent call last)",
      "\u001b[1;32m~\\AppData\\Local\\Temp/ipykernel_8840/1052565345.py\u001b[0m in \u001b[0;36m<module>\u001b[1;34m\u001b[0m\n\u001b[1;32m----> 1\u001b[1;33m \u001b[0mcity\u001b[0m\u001b[1;33m.\u001b[0m\u001b[0mremove\u001b[0m\u001b[1;33m(\u001b[0m\u001b[1;34m\"sangali\"\u001b[0m\u001b[1;33m)\u001b[0m\u001b[1;33m\u001b[0m\u001b[1;33m\u001b[0m\u001b[0m\n\u001b[0m\u001b[0;32m      2\u001b[0m \u001b[0mprint\u001b[0m\u001b[1;33m(\u001b[0m\u001b[0mcity\u001b[0m\u001b[1;33m)\u001b[0m\u001b[1;33m\u001b[0m\u001b[1;33m\u001b[0m\u001b[0m\n",
      "\u001b[1;31mKeyError\u001b[0m: 'sangali'"
     ]
    }
   ],
   "source": [
    "city.remove(\"sangali\")\n",
    "print(city)"
   ]
  },
  {
   "cell_type": "code",
   "execution_count": 14,
   "id": "be2e8478",
   "metadata": {},
   "outputs": [
    {
     "name": "stdout",
     "output_type": "stream",
     "text": [
      "enter the city :  Shrirampur\n",
      "enter the city :  Belapur\n",
      "enter the city :  Pune\n",
      "enter the city :  Nagar\n",
      "{}\n"
     ]
    }
   ],
   "source": [
    "new_city={}\n",
    "for x in range(4):\n",
    "    city=input(\"enter the city :  \")\n",
    "print(new_city)"
   ]
  },
  {
   "cell_type": "markdown",
   "id": "adb43993",
   "metadata": {},
   "source": [
    "# Dictionaries\n"
   ]
  },
  {
   "cell_type": "code",
   "execution_count": null,
   "id": "2624ee5e",
   "metadata": {},
   "outputs": [],
   "source": []
  },
  {
   "cell_type": "code",
   "execution_count": 15,
   "id": "ee393ebc",
   "metadata": {},
   "outputs": [],
   "source": [
    "import pandas as pd\n",
    "data={\"Name\" : [\"Komal\",\"Supriya\",\"Sapana\",\"Savi\"],\n",
    "     \"Phone Number\":[9767971466,9878789878,4567345676,9876509876],\n",
    "     \"city\":[\"Belapur\",\"Umbergon\",\"Nagar\",\"Pune\"]\n",
    "     }"
   ]
  },
  {
   "cell_type": "code",
   "execution_count": 16,
   "id": "da14292c",
   "metadata": {},
   "outputs": [
    {
     "name": "stdout",
     "output_type": "stream",
     "text": [
      "{'Name': ['Komal', 'Supriya', 'Sapana', 'Savi'], 'Phone Number': [9767971466, 9878789878, 4567345676, 9876509876], 'city': ['Belapur', 'Umbergon', 'Nagar', 'Pune']}\n"
     ]
    }
   ],
   "source": [
    "print(data)"
   ]
  },
  {
   "cell_type": "code",
   "execution_count": 17,
   "id": "fe3c662d",
   "metadata": {},
   "outputs": [],
   "source": [
    "df=pd.DataFrame(data)"
   ]
  },
  {
   "cell_type": "code",
   "execution_count": 18,
   "id": "f44ec753",
   "metadata": {},
   "outputs": [
    {
     "name": "stdout",
     "output_type": "stream",
     "text": [
      "      Name  Phone Number      city\n",
      "0    Komal    9767971466   Belapur\n",
      "1  Supriya    9878789878  Umbergon\n",
      "2   Sapana    4567345676     Nagar\n",
      "3     Savi    9876509876      Pune\n"
     ]
    }
   ],
   "source": [
    "print(df)"
   ]
  },
  {
   "cell_type": "code",
   "execution_count": 19,
   "id": "326e3a4f",
   "metadata": {},
   "outputs": [],
   "source": [
    "csv_data = df.to_csv()"
   ]
  },
  {
   "cell_type": "code",
   "execution_count": 20,
   "id": "b37b0dfb",
   "metadata": {},
   "outputs": [
    {
     "name": "stdout",
     "output_type": "stream",
     "text": [
      ",Name,Phone Number,city\r\n",
      "0,Komal,9767971466,Belapur\r\n",
      "1,Supriya,9878789878,Umbergon\r\n",
      "2,Sapana,4567345676,Nagar\r\n",
      "3,Savi,9876509876,Pune\r\n",
      "\n"
     ]
    }
   ],
   "source": [
    "print(csv_data)"
   ]
  },
  {
   "cell_type": "code",
   "execution_count": 21,
   "id": "1cf9e4ca",
   "metadata": {},
   "outputs": [],
   "source": [
    "data={\"Name\" : [\"Komal\",\"Supriya\",\"Sapana\",\"Savi\"],\n",
    "     \"Phone Number\":[9767971466,9878789878,4567345676,9876509876],\n",
    "     \"city\":[\"Belapur\",\"Umbergon\",\"Nagar\",\"Pune\"]\n",
    "     }\n",
    "data[\"Branch\"]=[\"M.Sc\",\"B.Sc\",\"BCS\",\"BCA\"]"
   ]
  },
  {
   "cell_type": "code",
   "execution_count": 22,
   "id": "2dd2908f",
   "metadata": {},
   "outputs": [
    {
     "name": "stdout",
     "output_type": "stream",
     "text": [
      "{'Name': ['Komal', 'Supriya', 'Sapana', 'Savi'], 'Phone Number': [9767971466, 9878789878, 4567345676, 9876509876], 'city': ['Belapur', 'Umbergon', 'Nagar', 'Pune'], 'Branch': ['M.Sc', 'B.Sc', 'BCS', 'BCA']}\n"
     ]
    }
   ],
   "source": [
    "print(data)"
   ]
  },
  {
   "cell_type": "code",
   "execution_count": 23,
   "id": "34cf9918",
   "metadata": {},
   "outputs": [],
   "source": [
    "New_data=pd.DataFrame(data)\n"
   ]
  },
  {
   "cell_type": "code",
   "execution_count": 24,
   "id": "1c60ca34",
   "metadata": {},
   "outputs": [
    {
     "name": "stdout",
     "output_type": "stream",
     "text": [
      "      Name  Phone Number      city Branch\n",
      "0    Komal    9767971466   Belapur   M.Sc\n",
      "1  Supriya    9878789878  Umbergon   B.Sc\n",
      "2   Sapana    4567345676     Nagar    BCS\n",
      "3     Savi    9876509876      Pune    BCA\n"
     ]
    }
   ],
   "source": [
    "print(New_data)"
   ]
  },
  {
   "cell_type": "code",
   "execution_count": 25,
   "id": "927daf7e",
   "metadata": {},
   "outputs": [],
   "source": [
    "csv_file=New_data.to_csv()"
   ]
  },
  {
   "cell_type": "code",
   "execution_count": 26,
   "id": "fb7bb1ae",
   "metadata": {},
   "outputs": [
    {
     "name": "stdout",
     "output_type": "stream",
     "text": [
      ",Name,Phone Number,city,Branch\r\n",
      "0,Komal,9767971466,Belapur,M.Sc\r\n",
      "1,Supriya,9878789878,Umbergon,B.Sc\r\n",
      "2,Sapana,4567345676,Nagar,BCS\r\n",
      "3,Savi,9876509876,Pune,BCA\r\n",
      "\n"
     ]
    }
   ],
   "source": [
    "print(csv_file)"
   ]
  },
  {
   "cell_type": "code",
   "execution_count": null,
   "id": "dffa756e",
   "metadata": {},
   "outputs": [],
   "source": []
  }
 ],
 "metadata": {
  "kernelspec": {
   "display_name": "Python 3 (ipykernel)",
   "language": "python",
   "name": "python3"
  },
  "language_info": {
   "codemirror_mode": {
    "name": "ipython",
    "version": 3
   },
   "file_extension": ".py",
   "mimetype": "text/x-python",
   "name": "python",
   "nbconvert_exporter": "python",
   "pygments_lexer": "ipython3",
   "version": "3.9.7"
  }
 },
 "nbformat": 4,
 "nbformat_minor": 5
}
