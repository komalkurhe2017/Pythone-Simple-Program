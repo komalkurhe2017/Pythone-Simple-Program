{
 "cells": [
  {
   "cell_type": "code",
   "execution_count": 1,
   "id": "96cb796a",
   "metadata": {},
   "outputs": [
    {
     "name": "stdout",
     "output_type": "stream",
     "text": [
      "enter the value: 23\n",
      "enter the value: 78\n",
      "101\n",
      "enter the value: 45\n",
      "enter the value: 23\n",
      "68\n",
      "enter the value: 12\n",
      "enter the value: 3\n",
      "15\n"
     ]
    }
   ],
   "source": [
    "for x in range(3):\n",
    "    a=int(input(\"enter the value: \"))\n",
    "    b=int(input(\"enter the value: \"))\n",
    "    print(a+b)"
   ]
  },
  {
   "cell_type": "code",
   "execution_count": 1,
   "id": "f3474546",
   "metadata": {},
   "outputs": [
    {
     "name": "stdout",
     "output_type": "stream",
     "text": [
      " Hi This is me: A\n",
      "enter the value: 23\n",
      "enter the value: 34\n",
      "57\n",
      " Hi This is me: B\n",
      "enter the value: 12\n",
      "enter the value: 12\n",
      "24\n",
      " Hi This is me: C\n",
      "enter the value: 12\n",
      "enter the value: 12\n",
      "24\n"
     ]
    }
   ],
   "source": [
    "for x in \"ABC\":\n",
    "    print(\" Hi This is me:\",x)\n",
    "    a=int(input(\"enter the value: \"))\n",
    "    b=int(input(\"enter the value: \"))\n",
    "    print(a+b)"
   ]
  },
  {
   "cell_type": "code",
   "execution_count": 3,
   "id": "131c9700",
   "metadata": {},
   "outputs": [
    {
     "name": "stdout",
     "output_type": "stream",
     "text": [
      "pune\n",
      "shrirampur\n",
      "sangali\n",
      "nasik\n"
     ]
    }
   ],
   "source": [
    "city=[\"pune\",\"shrirampur\",\"sangali\",\"nasik\"]\n",
    "for x in city:\n",
    "    print(x)"
   ]
  },
  {
   "cell_type": "code",
   "execution_count": 8,
   "id": "bf2be4eb",
   "metadata": {},
   "outputs": [
    {
     "name": "stdout",
     "output_type": "stream",
     "text": [
      "pune p\n",
      "pune u\n",
      "pune n\n",
      "pune e\n",
      "shrirampur s\n",
      "shrirampur h\n",
      "shrirampur r\n",
      "shrirampur i\n",
      "shrirampur r\n",
      "shrirampur a\n",
      "shrirampur m\n",
      "shrirampur p\n",
      "shrirampur u\n",
      "shrirampur r\n",
      "sangali s\n",
      "sangali a\n",
      "sangali n\n",
      "sangali g\n",
      "sangali a\n",
      "sangali l\n",
      "sangali i\n",
      "nasik n\n",
      "nasik a\n",
      "nasik s\n",
      "nasik i\n",
      "nasik k\n"
     ]
    }
   ],
   "source": [
    "city=[\"pune\",\"shrirampur\",\"sangali\",\"nasik\"]\n",
    "for x in city:\n",
    "    for y in x:\n",
    "        print(x,y)"
   ]
  },
  {
   "cell_type": "code",
   "execution_count": 9,
   "id": "55786d53",
   "metadata": {},
   "outputs": [
    {
     "name": "stdout",
     "output_type": "stream",
     "text": [
      "<class 'str'> pune\n",
      "<class 'str'> pune\n",
      "<class 'str'> pune\n",
      "<class 'str'> pune\n",
      "<class 'str'> shrirampur\n",
      "<class 'str'> shrirampur\n",
      "<class 'str'> shrirampur\n",
      "<class 'str'> shrirampur\n",
      "<class 'str'> shrirampur\n",
      "<class 'str'> shrirampur\n",
      "<class 'str'> shrirampur\n",
      "<class 'str'> shrirampur\n",
      "<class 'str'> shrirampur\n",
      "<class 'str'> shrirampur\n",
      "<class 'str'> sangali\n",
      "<class 'str'> sangali\n",
      "<class 'str'> sangali\n",
      "<class 'str'> sangali\n",
      "<class 'str'> sangali\n",
      "<class 'str'> sangali\n",
      "<class 'str'> sangali\n",
      "<class 'str'> nasik\n",
      "<class 'str'> nasik\n",
      "<class 'str'> nasik\n",
      "<class 'str'> nasik\n",
      "<class 'str'> nasik\n"
     ]
    }
   ],
   "source": [
    "city=[\"pune\",\"shrirampur\",\"sangali\",\"nasik\"]\n",
    "for x in city:\n",
    "    for y in x:\n",
    "        print(type(x),x)"
   ]
  },
  {
   "cell_type": "code",
   "execution_count": 10,
   "id": "b6ff3cbd",
   "metadata": {},
   "outputs": [
    {
     "name": "stdout",
     "output_type": "stream",
     "text": [
      "pune p\n",
      "pune u\n",
      "pune n\n",
      "pune e\n",
      "shrirampur s\n",
      "shrirampur h\n",
      "shrirampur r\n",
      "shrirampur i\n",
      "shrirampur r\n",
      "shrirampur a\n",
      "shrirampur m\n",
      "shrirampur p\n",
      "shrirampur u\n",
      "shrirampur r\n",
      "10.00 1\n",
      "10.00 0\n",
      "10.00 .\n",
      "10.00 0\n",
      "10.00 0\n",
      "nasik n\n",
      "nasik a\n",
      "nasik s\n",
      "nasik i\n",
      "nasik k\n"
     ]
    }
   ],
   "source": [
    "city=[\"pune\",\"shrirampur\",\"10.00\",\"nasik\"]\n",
    "for x in city:\n",
    "    for y in x:\n",
    "        print(x,y)"
   ]
  },
  {
   "cell_type": "code",
   "execution_count": 14,
   "id": "3e917416",
   "metadata": {},
   "outputs": [
    {
     "name": "stdout",
     "output_type": "stream",
     "text": [
      "<class 'str'> pune\n",
      "<class 'str'> pune\n",
      "<class 'str'> pune\n",
      "<class 'str'> pune\n",
      "<class 'str'> shrirampur\n",
      "<class 'str'> shrirampur\n",
      "<class 'str'> shrirampur\n",
      "<class 'str'> shrirampur\n",
      "<class 'str'> shrirampur\n",
      "<class 'str'> shrirampur\n",
      "<class 'str'> shrirampur\n",
      "<class 'str'> shrirampur\n",
      "<class 'str'> shrirampur\n",
      "<class 'str'> shrirampur\n",
      "<class 'str'> 10.0\n",
      "<class 'str'> 10.0\n",
      "<class 'str'> 10.0\n",
      "<class 'str'> 10.0\n",
      "<class 'str'> nasik\n",
      "<class 'str'> nasik\n",
      "<class 'str'> nasik\n",
      "<class 'str'> nasik\n",
      "<class 'str'> nasik\n"
     ]
    }
   ],
   "source": [
    "city=[\"pune\",\"shrirampur\",\"10.0\",\"nasik\"]\n",
    "for x in city:\n",
    "    for y in x:\n",
    "        print(type(x),x)"
   ]
  },
  {
   "cell_type": "code",
   "execution_count": 16,
   "id": "a53c383c",
   "metadata": {},
   "outputs": [
    {
     "name": "stdout",
     "output_type": "stream",
     "text": [
      "p ************ pune\n",
      "u ************ pune\n",
      "n ************ pune\n",
      "e ************ pune\n",
      "s ************ shrirampur\n",
      "h ************ shrirampur\n",
      "r ************ shrirampur\n",
      "i ************ shrirampur\n",
      "r ************ shrirampur\n",
      "a ************ shrirampur\n",
      "m ************ shrirampur\n",
      "p ************ shrirampur\n",
      "u ************ shrirampur\n",
      "r ************ shrirampur\n",
      "1 ************ 10.00\n",
      "0 ************ 10.00\n",
      ". ************ 10.00\n",
      "0 ************ 10.00\n",
      "0 ************ 10.00\n",
      "n ************ nasik\n",
      "a ************ nasik\n",
      "s ************ nasik\n",
      "i ************ nasik\n",
      "k ************ nasik\n"
     ]
    }
   ],
   "source": [
    "city=[\"pune\",\"shrirampur\",\"10.00\",\"nasik\"]\n",
    "for x in city:\n",
    "    for y in x:\n",
    "        print(y,\"************\",x)"
   ]
  },
  {
   "cell_type": "code",
   "execution_count": 30,
   "id": "7bb7f798",
   "metadata": {},
   "outputs": [
    {
     "name": "stdout",
     "output_type": "stream",
     "text": [
      "ne\n",
      "\n",
      "ur\n",
      "\n",
      "ar\n",
      "\n",
      "ik\n",
      "\n"
     ]
    }
   ],
   "source": [
    "city=[\"pune\",\"shrirampur\",\"nagar\",\"nasik\"]\n",
    "for x in city:\n",
    "    print(x[-2:])\n",
    "    ab=x[-2:]\n",
    "    x1=ab+x\n",
    "    print()"
   ]
  },
  {
   "cell_type": "code",
   "execution_count": 34,
   "id": "80ffc440",
   "metadata": {},
   "outputs": [
    {
     "name": "stdout",
     "output_type": "stream",
     "text": [
      "<class 'str'>\n",
      "<class 'str'>\n",
      "<class 'int'>\n",
      "<class 'str'>\n"
     ]
    }
   ],
   "source": [
    "city=[\"pune\",\"shrirampur\",10,\"nasik\"]\n",
    "for x in city:\n",
    "    \n",
    "    ab=type(x)\n",
    "    print(ab)"
   ]
  },
  {
   "cell_type": "code",
   "execution_count": 43,
   "id": "56cee26d",
   "metadata": {},
   "outputs": [
    {
     "name": "stdout",
     "output_type": "stream",
     "text": [
      "string\n",
      "string\n",
      " int\n",
      "string\n"
     ]
    }
   ],
   "source": [
    "city=[\"pune\",\"shrirampur\",10,\"nasik\"]\n",
    "for x in city:\n",
    "    ab=type(x)\n",
    "    if ab==str:\n",
    "        print(\"string\")\n",
    "    else:\n",
    "        print(\" int\")\n",
    "    \n",
    "    "
   ]
  },
  {
   "cell_type": "code",
   "execution_count": 17,
   "id": "8dc02ca4",
   "metadata": {},
   "outputs": [
    {
     "name": "stdout",
     "output_type": "stream",
     "text": [
      "p\n",
      "s\n",
      "1\n",
      "n\n"
     ]
    }
   ],
   "source": [
    "city=[\"pune\",\"shrirampur\",\"10.00\",\"nasik\"]\n",
    "for x in city:\n",
    "    print(x[0])\n"
   ]
  },
  {
   "cell_type": "code",
   "execution_count": 20,
   "id": "f290a4fc",
   "metadata": {},
   "outputs": [
    {
     "name": "stdout",
     "output_type": "stream",
     "text": [
      "un\n",
      "hr\n",
      "ag\n",
      "as\n"
     ]
    }
   ],
   "source": [
    "city=[\"pune\",\"shrirampur\",\"nagar\",\"nasik\"]\n",
    "for x in city:\n",
    "    print(x[1:3])"
   ]
  },
  {
   "cell_type": "code",
   "execution_count": 67,
   "id": "6d29f956",
   "metadata": {},
   "outputs": [
    {
     "name": "stdout",
     "output_type": "stream",
     "text": [
      "\n",
      "0 \n",
      "0 1 \n",
      "0 1 2 \n",
      "0 1 2 3 \n"
     ]
    }
   ],
   "source": [
    "for x in range (5):\n",
    "    for y in range (x) :\n",
    "        print(y,end=\" \")\n",
    "    print()\n",
    "    \n"
   ]
  },
  {
   "cell_type": "code",
   "execution_count": 68,
   "id": "759da855",
   "metadata": {},
   "outputs": [
    {
     "name": "stdout",
     "output_type": "stream",
     "text": [
      "\n",
      "y \n",
      "y y \n",
      "y y y \n",
      "y y y y \n"
     ]
    }
   ],
   "source": [
    "for x in range (5):\n",
    "    for y in range (x) :\n",
    "        print(\"y\",end=\" \")\n",
    "    print()\n"
   ]
  },
  {
   "cell_type": "code",
   "execution_count": 65,
   "id": "522ecf6c",
   "metadata": {},
   "outputs": [
    {
     "name": "stdout",
     "output_type": "stream",
     "text": [
      "\n",
      "x \n",
      "x x \n",
      "x x x \n",
      "x x x x \n"
     ]
    }
   ],
   "source": [
    "for x in range (5):\n",
    "    for y in range (x) :\n",
    "        print(\"x\",end=\" \")\n",
    "    print()\n"
   ]
  },
  {
   "cell_type": "code",
   "execution_count": 23,
   "id": "21741d0c",
   "metadata": {},
   "outputs": [
    {
     "name": "stdout",
     "output_type": "stream",
     "text": [
      "pun\n",
      "shrirampu\n",
      "naga\n",
      "nasi\n"
     ]
    }
   ],
   "source": [
    "city=[\"pune\",\"shrirampur\",\"nagar\",\"nasik\"]\n",
    "for x in city:\n",
    "    print(x[:-1])"
   ]
  },
  {
   "cell_type": "code",
   "execution_count": 62,
   "id": "2ac5ba9c",
   "metadata": {},
   "outputs": [
    {
     "name": "stdout",
     "output_type": "stream",
     "text": [
      "enter the marks...45\n",
      "i got 2nd class: \n"
     ]
    }
   ],
   "source": [
    "marks=int(input(\"enter the marks...\"))\n",
    "\n",
    "if marks>=75 and marks<=100:\n",
    "    print(\"i got distinction: \")\n",
    "elif marks>=60:\n",
    "    print(\"i got 1st class: \")\n",
    "elif marks>=40:\n",
    "    print(\"i got 2nd class: \")\n",
    "elif marks>=35:\n",
    "    print(\"pass\")\n",
    "elif marks<35 and marks>=0:\n",
    "    print(\"failed.....!!!\")\n",
    "else:\n",
    "    print(\"this is wrong input....\")"
   ]
  },
  {
   "cell_type": "code",
   "execution_count": null,
   "id": "f95c70aa",
   "metadata": {},
   "outputs": [],
   "source": [
    "num=int(input(\"enter the number\"))\n",
    "if num%2==0:\n",
    "    print(num,\"even\")\n",
    "else:\n",
    "    print(num,\"odd\")\n"
   ]
  },
  {
   "cell_type": "code",
   "execution_count": 9,
   "id": "0fb308f0",
   "metadata": {},
   "outputs": [
    {
     "name": "stdout",
     "output_type": "stream",
     "text": [
      "Primes numbers between 25 50\n",
      "29\n",
      "31\n",
      "37\n",
      "41\n",
      "43\n",
      "47\n"
     ]
    }
   ],
   "source": [
    "##Prime number\n",
    "start=25\n",
    "end=50\n",
    "print(\"Primes numbers between\",25,50)\n",
    "for x in range(start,end):\n",
    "    if x>2:\n",
    "        for j in range(3,x):\n",
    "            if (x % j)==0:\n",
    "                break\n",
    "        else:\n",
    "            print(x)"
   ]
  },
  {
   "cell_type": "code",
   "execution_count": 10,
   "id": "bef152a0",
   "metadata": {},
   "outputs": [],
   "source": [
    "##multiplication table\n",
    "##pattern\n",
    "##fabinacci series\n"
   ]
  },
  {
   "cell_type": "code",
   "execution_count": 13,
   "id": "93350a6d",
   "metadata": {},
   "outputs": [
    {
     "name": "stdout",
     "output_type": "stream",
     "text": [
      "13 x 1 = 13\n",
      "13 x 2 = 26\n",
      "13 x 3 = 39\n",
      "13 x 4 = 52\n",
      "13 x 5 = 65\n",
      "13 x 6 = 78\n",
      "13 x 7 = 91\n",
      "13 x 8 = 104\n",
      "13 x 9 = 117\n",
      "13 x 10 = 130\n"
     ]
    }
   ],
   "source": [
    "#multiplication table\n",
    "x=13\n",
    "for i in range(1,11):\n",
    "    print(x,'x',i,'=',x*i)\n"
   ]
  },
  {
   "cell_type": "code",
   "execution_count": null,
   "id": "8e7c175c",
   "metadata": {},
   "outputs": [],
   "source": []
  }
 ],
 "metadata": {
  "kernelspec": {
   "display_name": "Python 3 (ipykernel)",
   "language": "python",
   "name": "python3"
  },
  "language_info": {
   "codemirror_mode": {
    "name": "ipython",
    "version": 3
   },
   "file_extension": ".py",
   "mimetype": "text/x-python",
   "name": "python",
   "nbconvert_exporter": "python",
   "pygments_lexer": "ipython3",
   "version": "3.9.7"
  }
 },
 "nbformat": 4,
 "nbformat_minor": 5
}
