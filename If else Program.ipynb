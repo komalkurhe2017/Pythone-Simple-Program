{
 "cells": [
  {
   "cell_type": "code",
   "execution_count": 1,
   "id": "78e5b1f9",
   "metadata": {},
   "outputs": [
    {
     "name": "stdout",
     "output_type": "stream",
     "text": [
      "Enter Dish Name:soup\n",
      "soup is chinese dish.\n"
     ]
    }
   ],
   "source": [
    "indian = [\"puran poli\",\"aloo gobhi\", \"palak paneer\",\"kaju curry\"]\n",
    "chinese = [\"spring rolls\",\"soup\",\"fried rice\",\"dumplings\"]\n",
    "italian = [\"pizza\",\"coffee\",\"truffles\",\"lasagna\"]\n",
    "\n",
    "name = input(\"Enter Dish Name:\")\n",
    "\n",
    "if name in indian:\n",
    "    print(name, \"is Indian Dish.\")\n",
    "\n",
    "elif name in chinese:\n",
    "    print(name,\"is chinese dish.\")\n",
    "elif name in italian:\n",
    "    print(name,\"is Italian dish.\")\n",
    "else:\n",
    "    print(\"dish is not present\")"
   ]
  },
  {
   "cell_type": "code",
   "execution_count": 4,
   "id": "824b4094",
   "metadata": {},
   "outputs": [
    {
     "name": "stdout",
     "output_type": "stream",
     "text": [
      "Enter Dish Name:soup\n",
      "soup is chinese dish.\n",
      "soup is chinese dish.\n",
      "soup is chinese dish.\n"
     ]
    }
   ],
   "source": [
    "indian = [\"puran poli\",\"aloo gobhi\", \"palak paneer\",\"kaju curry\"]\n",
    "chinese = [\"spring rolls\",\"soup\",\"fried rice\",\"dumplings\"]\n",
    "italian = [\"pizza\",\"coffee\",\"truffles\",\"lasagna\"]\n",
    "\n",
    "name = input(\"Enter Dish Name:\")\n",
    "for x in range(3):\n",
    "    if name in indian:\n",
    "        print(name, \"is Indian Dish.\")\n",
    "\n",
    "    elif name in chinese:\n",
    "        print(name,\"is chinese dish.\")\n",
    "    elif name in italian:\n",
    "        print(name,\"is Italian dish.\")\n",
    "    else:\n",
    "        print(\"dish is not present\")"
   ]
  },
  {
   "cell_type": "code",
   "execution_count": 5,
   "id": "bf0c2de6",
   "metadata": {},
   "outputs": [
    {
     "name": "stdout",
     "output_type": "stream",
     "text": [
      "Enter marks: 65\n",
      "You are pass\n"
     ]
    }
   ],
   "source": [
    "marks = int(input(\"Enter marks: \"))\n",
    "\n",
    "if marks > 0 and marks <= 39:\n",
    "    print(\"You are fail\")\n",
    "elif marks >= 40 and marks <= 70:\n",
    "    print(\"You are pass\")\n",
    "else:\n",
    "    print(\"You are pass with distinction\")"
   ]
  },
  {
   "cell_type": "code",
   "execution_count": 6,
   "id": "fe720b92",
   "metadata": {},
   "outputs": [
    {
     "name": "stdout",
     "output_type": "stream",
     "text": [
      "Enter Number:66\n",
      "\n",
      " 66 is divisible by 3\n",
      "and also divisible by 6\n",
      "\n",
      " 66 is divisible by 2\n"
     ]
    }
   ],
   "source": [
    "num = int(input(\"Enter Number:\"))\n",
    "\n",
    "if num % 3 == 0:\n",
    "    print(\"\\n\",num,\"is divisible by 3\")\n",
    "    if num % 6 == 0:\n",
    "        print(\"and also divisible by 6\")\n",
    "if num % 7 == 0:\n",
    "    print(\"\\n\",num,\"is divisiible by 7\")\n",
    "if num % 2 == 0:\n",
    "    print(\"\\n\",num,\"is divisible by 2\")\n",
    "    if num % 4 == 0:\n",
    "        print(\"and also divisible by 4\")"
   ]
  },
  {
   "cell_type": "code",
   "execution_count": 7,
   "id": "bd23a0dd",
   "metadata": {},
   "outputs": [
    {
     "name": "stdout",
     "output_type": "stream",
     "text": [
      "Enter colour: red\n",
      "Colour is present\n"
     ]
    }
   ],
   "source": [
    "mydict = {\"raj\":\"red\", \"rahul\":\"blue\", \"pooja\":\"black\", \"neha\":\"pink\", \"pihu\":\"purple\"}\n",
    "#print(mydict)\n",
    "\n",
    "color = input(\"Enter colour: \")\n",
    "\n",
    "if color in mydict.values():\n",
    "    print(\"Colour is present\")\n",
    "else:\n",
    "    print(\"Colour is not available\")"
   ]
  },
  {
   "cell_type": "code",
   "execution_count": null,
   "id": "b35d757d",
   "metadata": {},
   "outputs": [],
   "source": []
  }
 ],
 "metadata": {
  "kernelspec": {
   "display_name": "Python 3 (ipykernel)",
   "language": "python",
   "name": "python3"
  },
  "language_info": {
   "codemirror_mode": {
    "name": "ipython",
    "version": 3
   },
   "file_extension": ".py",
   "mimetype": "text/x-python",
   "name": "python",
   "nbconvert_exporter": "python",
   "pygments_lexer": "ipython3",
   "version": "3.9.7"
  }
 },
 "nbformat": 4,
 "nbformat_minor": 5
}
