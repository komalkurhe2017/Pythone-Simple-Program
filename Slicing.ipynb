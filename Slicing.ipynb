{
 "cells": [
  {
   "cell_type": "code",
   "execution_count": 1,
   "id": "6ff7051c",
   "metadata": {},
   "outputs": [
    {
     "name": "stdout",
     "output_type": "stream",
     "text": [
      "30\n"
     ]
    }
   ],
   "source": [
    "a=10\n",
    "b=20\n",
    "print(a+b)"
   ]
  },
  {
   "cell_type": "code",
   "execution_count": 2,
   "id": "2f0f0c1e",
   "metadata": {},
   "outputs": [
    {
     "name": "stdout",
     "output_type": "stream",
     "text": [
      "enter the value20\n",
      "enter the value30\n"
     ]
    }
   ],
   "source": [
    "a=input(\"enter the value\")\n",
    "b=input(\"enter the value\")"
   ]
  },
  {
   "cell_type": "code",
   "execution_count": 3,
   "id": "1e80538f",
   "metadata": {},
   "outputs": [
    {
     "name": "stdout",
     "output_type": "stream",
     "text": [
      "enter the value20\n",
      "enter the value20\n",
      "2020\n"
     ]
    }
   ],
   "source": [
    "a=input(\"enter the value\")\n",
    "b=input(\"enter the value\")\n",
    "print(a+b)"
   ]
  },
  {
   "cell_type": "code",
   "execution_count": 4,
   "id": "e2b8c54c",
   "metadata": {},
   "outputs": [
    {
     "name": "stdout",
     "output_type": "stream",
     "text": [
      "<class 'str'>\n",
      "<class 'str'>\n"
     ]
    }
   ],
   "source": [
    "print(type(a))\n",
    "print(type(b))"
   ]
  },
  {
   "cell_type": "code",
   "execution_count": 5,
   "id": "52824a82",
   "metadata": {},
   "outputs": [
    {
     "name": "stdout",
     "output_type": "stream",
     "text": [
      "enter the name:  Komal\n",
      "enter the number:  9767971466\n",
      "My name is: Komal my number is:  9767971466\n"
     ]
    }
   ],
   "source": [
    "name=input(\"enter the name:  \")\n",
    "number=input(\"enter the number:  \")\n",
    "print(\"My name is:\",name,\"my number is: \",number)"
   ]
  },
  {
   "cell_type": "code",
   "execution_count": 6,
   "id": "e4f71470",
   "metadata": {},
   "outputs": [
    {
     "name": "stdout",
     "output_type": "stream",
     "text": [
      "enter the name:  Komal\n",
      "enter the number:  9767971466\n",
      "My name is: Komal my number is:  9767971466\n"
     ]
    }
   ],
   "source": [
    "name=input(\"enter the name:  \")\n",
    "number=input(\"enter the number:  \")\n",
    "print(\"My name is:\",name,\"my number is: \",number)"
   ]
  },
  {
   "cell_type": "code",
   "execution_count": null,
   "id": "50b8c81c",
   "metadata": {},
   "outputs": [],
   "source": [
    "a=float(input(\"enter the name:  \"))\n",
    "b=float(input(\"enter the number:  \"))\n",
    "c=(a+b)\n",
    "ab=int(c)\n",
    "print(ab)\n",
    "print(type(ab))"
   ]
  },
  {
   "cell_type": "code",
   "execution_count": null,
   "id": "371b73fd",
   "metadata": {},
   "outputs": [],
   "source": [
    "a=\"water is important\"\n",
    "a[1:]\n",
    "\n"
   ]
  },
  {
   "cell_type": "code",
   "execution_count": null,
   "id": "eacf14d7",
   "metadata": {},
   "outputs": [],
   "source": [
    "a[:3]\n",
    "\n"
   ]
  },
  {
   "cell_type": "code",
   "execution_count": null,
   "id": "205fe0ae",
   "metadata": {},
   "outputs": [],
   "source": [
    "a[:-1]"
   ]
  },
  {
   "cell_type": "code",
   "execution_count": null,
   "id": "7c683726",
   "metadata": {},
   "outputs": [],
   "source": [
    "a[-6:-5]"
   ]
  },
  {
   "cell_type": "code",
   "execution_count": null,
   "id": "9e3947c1",
   "metadata": {},
   "outputs": [],
   "source": [
    "a[1:-4]"
   ]
  },
  {
   "cell_type": "code",
   "execution_count": null,
   "id": "7502cb58",
   "metadata": {},
   "outputs": [],
   "source": [
    "a[1 :4] + a[-2:-3]"
   ]
  },
  {
   "cell_type": "code",
   "execution_count": null,
   "id": "e27abf24",
   "metadata": {},
   "outputs": [],
   "source": [
    "type(a)"
   ]
  },
  {
   "cell_type": "code",
   "execution_count": null,
   "id": "935bfbf5",
   "metadata": {},
   "outputs": [],
   "source": [
    "a=\"i am komal\"\n",
    "b=\"i am from shrirampur\"\n",
    "a[-5:] + b[-10:]"
   ]
  },
  {
   "cell_type": "code",
   "execution_count": null,
   "id": "e9f8c41e",
   "metadata": {},
   "outputs": [],
   "source": [
    "a[-5:] + b[1:]"
   ]
  },
  {
   "cell_type": "markdown",
   "id": "6cb9caf3",
   "metadata": {},
   "source": [
    "## "
   ]
  }
 ],
 "metadata": {
  "kernelspec": {
   "display_name": "Python 3 (ipykernel)",
   "language": "python",
   "name": "python3"
  },
  "language_info": {
   "codemirror_mode": {
    "name": "ipython",
    "version": 3
   },
   "file_extension": ".py",
   "mimetype": "text/x-python",
   "name": "python",
   "nbconvert_exporter": "python",
   "pygments_lexer": "ipython3",
   "version": "3.9.7"
  }
 },
 "nbformat": 4,
 "nbformat_minor": 5
}
