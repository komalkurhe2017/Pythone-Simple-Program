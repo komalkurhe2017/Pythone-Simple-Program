{
 "cells": [
  {
   "cell_type": "code",
   "execution_count": 1,
   "id": "3f684885",
   "metadata": {},
   "outputs": [
    {
     "name": "stdout",
     "output_type": "stream",
     "text": [
      "['Pune', 'Satara', 'Karad', 'Mumbai', 'kolhapur', 'Data Science', 'Goa']\n"
     ]
    }
   ],
   "source": [
    "city=[\"Pune\",\"Satara\",\"Karad\",\"Mumbai\",\"kolhapur\",\"Goa\"]\n",
    "city.insert(-1,\"Data Science\")\n",
    "print(city)\n"
   ]
  },
  {
   "cell_type": "code",
   "execution_count": 2,
   "id": "5a61c5ff",
   "metadata": {},
   "outputs": [
    {
     "name": "stdout",
     "output_type": "stream",
     "text": [
      "Enter the Position: 2\n",
      "Enter the City Name: Belapur\n",
      "['Pune', 'Satara', 'Belapur', 'Karad', 'Mumbai', 'kolhapur', 'Data Science', 'Goa']\n"
     ]
    }
   ],
   "source": [
    "s=int(input(\"Enter the Position: \"))\n",
    "s2=input(\"Enter the City Name: \")\n",
    "city.insert(s,s2)\n",
    "print(city)\n"
   ]
  },
  {
   "cell_type": "code",
   "execution_count": 3,
   "id": "27325348",
   "metadata": {},
   "outputs": [
    {
     "name": "stdout",
     "output_type": "stream",
     "text": [
      "Komal Kurhe\n",
      "Komal Kurhe\n",
      "Komal Kurhe\n",
      "Komal Kurhe\n",
      "Komal Kurhe\n",
      "Komal Kurhe\n",
      "Komal Kurhe\n"
     ]
    }
   ],
   "source": [
    "a=\"1009ABC\"\n",
    "for x in a:\n",
    "    print(\"Komal Kurhe\")\n"
   ]
  },
  {
   "cell_type": "code",
   "execution_count": 18,
   "id": "6ffba116",
   "metadata": {},
   "outputs": [
    {
     "name": "stdout",
     "output_type": "stream",
     "text": [
      "* \n",
      "* * \n",
      "* * * \n",
      "* * * * \n",
      "* * * * * \n"
     ]
    }
   ],
   "source": [
    "for x in range(1,6):\n",
    "    for y in range(x):\n",
    "        print('*',end=' ')\n",
    "    print()\n",
    "    \n",
    "    \n",
    "\n",
    "        \n",
    "\n"
   ]
  },
  {
   "cell_type": "code",
   "execution_count": 19,
   "id": "62783b02",
   "metadata": {},
   "outputs": [
    {
     "name": "stdout",
     "output_type": "stream",
     "text": [
      "Enter the User Name: Komal\n",
      "Enter the Passward: 123\n",
      "Done it Sucussfully.....\n"
     ]
    }
   ],
   "source": [
    "user=input(\"Enter the User Name: \")\n",
    "if user==\"Komal\":\n",
    "    pas=input(\"Enter the Passward: \")\n",
    "    if pas==\"123\":\n",
    "         print(\"Done it Sucussfully.....\")\n",
    "    \n",
    "    else:\n",
    "         print(\"Your Passward is Wrong\")\n",
    "else:\n",
    "     print('Wrong User Name: ')"
   ]
  },
  {
   "cell_type": "code",
   "execution_count": 20,
   "id": "021c222f",
   "metadata": {},
   "outputs": [
    {
     "name": "stdout",
     "output_type": "stream",
     "text": [
      "Enter the User Name: Savi\n",
      "Wrong User Name: \n"
     ]
    }
   ],
   "source": [
    "user=input(\"Enter the User Name: \")\n",
    "if user==\"Komal\":\n",
    "    pas=input(\"Enter the Passward: \")\n",
    "    if pas==\"123\":\n",
    "         print(\"Done it Sucussfully.....\")\n",
    "    \n",
    "    else:\n",
    "         print(\"Your Passward is Wrong\")\n",
    "else:\n",
    "     print('Wrong User Name: ')\n"
   ]
  },
  {
   "cell_type": "code",
   "execution_count": null,
   "id": "1ad0e98e",
   "metadata": {},
   "outputs": [],
   "source": []
  },
  {
   "cell_type": "code",
   "execution_count": 26,
   "id": "87fe4b72",
   "metadata": {},
   "outputs": [
    {
     "name": "stdout",
     "output_type": "stream",
     "text": [
      "Enter the value: 11\n",
      "enter the value: 11\n",
      "0\n",
      "1\n",
      "2\n",
      "3\n",
      "4\n",
      "5\n",
      "6\n",
      "7\n",
      "8\n",
      "9\n"
     ]
    }
   ],
   "source": [
    "a=int(input(\"Enter the value: \"))\n",
    "b=int(input(\"enter the value: \"))\n",
    "if a==b:\n",
    "    for x in range(10):\n",
    "        print(x)"
   ]
  },
  {
   "cell_type": "code",
   "execution_count": 33,
   "id": "ff15cf50",
   "metadata": {},
   "outputs": [
    {
     "name": "stdout",
     "output_type": "stream",
     "text": [
      "Enter the marks: 89\n",
      "Distinction\n"
     ]
    }
   ],
   "source": [
    "m=int(input(\"Enter the marks: \"))\n",
    "if m>0 and m<35:\n",
    "    print(\"fail\")\n",
    "elif m>=35 and m<60:\n",
    "    print(\"Pass\")\n",
    "elif m>=60  and m<=100:\n",
    "    print(\"Distinction\")\n",
    "    "
   ]
  },
  {
   "cell_type": "code",
   "execution_count": 34,
   "id": "35b45ee4",
   "metadata": {},
   "outputs": [],
   "source": [
    "def profile():\n",
    "    pro=[]\n",
    "    name=input(\"Enter the Name: \")\n",
    "    num=int(input(\"Enter the Number: \"))\n",
    "    Email=input(\"Enter the Email: \")\n",
    "    city=input(\"Enter the City: \")\n",
    "    pro.append(name)\n",
    "    pro.append(num)\n",
    "    pro.append(Email)\n",
    "    pro.append(city)\n",
    "    print(\"My Profile Details: \",pro)"
   ]
  },
  {
   "cell_type": "code",
   "execution_count": 35,
   "id": "50e89bc7",
   "metadata": {},
   "outputs": [
    {
     "name": "stdout",
     "output_type": "stream",
     "text": [
      "Enter the Name: Komal\n",
      "Enter the Number: 9767971466\n",
      "Enter the Email: komalkurhe2017@gmail.com\n",
      "Enter the City: Belapur\n",
      "My Profile Details:  ['Komal', 9767971466, 'komalkurhe2017@gmail.com', 'Belapur']\n"
     ]
    }
   ],
   "source": [
    "profile()"
   ]
  },
  {
   "cell_type": "code",
   "execution_count": 62,
   "id": "0de974f3",
   "metadata": {},
   "outputs": [],
   "source": [
    "import pandas as pd\n",
    "import numpy as np"
   ]
  },
  {
   "cell_type": "code",
   "execution_count": 63,
   "id": "9f15644b",
   "metadata": {},
   "outputs": [
    {
     "data": {
      "text/html": [
       "<div>\n",
       "<style scoped>\n",
       "    .dataframe tbody tr th:only-of-type {\n",
       "        vertical-align: middle;\n",
       "    }\n",
       "\n",
       "    .dataframe tbody tr th {\n",
       "        vertical-align: top;\n",
       "    }\n",
       "\n",
       "    .dataframe thead th {\n",
       "        text-align: right;\n",
       "    }\n",
       "</style>\n",
       "<table border=\"1\" class=\"dataframe\">\n",
       "  <thead>\n",
       "    <tr style=\"text-align: right;\">\n",
       "      <th></th>\n",
       "      <th>Name</th>\n",
       "      <th>City</th>\n",
       "      <th>BOD</th>\n",
       "      <th>Fav-Colour</th>\n",
       "      <th>Education</th>\n",
       "      <th>R.No</th>\n",
       "    </tr>\n",
       "  </thead>\n",
       "  <tbody>\n",
       "    <tr>\n",
       "      <th>0</th>\n",
       "      <td>Komal</td>\n",
       "      <td>Shrirampur</td>\n",
       "      <td>5/1/2001</td>\n",
       "      <td>Pink</td>\n",
       "      <td>B.Sc</td>\n",
       "      <td>11</td>\n",
       "    </tr>\n",
       "    <tr>\n",
       "      <th>1</th>\n",
       "      <td>Riya</td>\n",
       "      <td>Sangali</td>\n",
       "      <td>5/6/2003</td>\n",
       "      <td>Black</td>\n",
       "      <td>M.Sc</td>\n",
       "      <td>12</td>\n",
       "    </tr>\n",
       "    <tr>\n",
       "      <th>2</th>\n",
       "      <td>Savi</td>\n",
       "      <td>Pune</td>\n",
       "      <td>23/3/2004</td>\n",
       "      <td>Red</td>\n",
       "      <td>BEd</td>\n",
       "      <td>10</td>\n",
       "    </tr>\n",
       "    <tr>\n",
       "      <th>3</th>\n",
       "      <td>Divya</td>\n",
       "      <td>Goa</td>\n",
       "      <td>5/5/1999</td>\n",
       "      <td>Orange</td>\n",
       "      <td>M.CS</td>\n",
       "      <td>9</td>\n",
       "    </tr>\n",
       "    <tr>\n",
       "      <th>4</th>\n",
       "      <td>Ravi</td>\n",
       "      <td>Belapur</td>\n",
       "      <td>5/2/2017</td>\n",
       "      <td>White</td>\n",
       "      <td>MCA</td>\n",
       "      <td>13</td>\n",
       "    </tr>\n",
       "    <tr>\n",
       "      <th>5</th>\n",
       "      <td>Supriya</td>\n",
       "      <td>Satara</td>\n",
       "      <td>5/3/2019</td>\n",
       "      <td>Yellow</td>\n",
       "      <td>DEd</td>\n",
       "      <td>15</td>\n",
       "    </tr>\n",
       "    <tr>\n",
       "      <th>6</th>\n",
       "      <td>Sapana</td>\n",
       "      <td>Nasik</td>\n",
       "      <td>5/1/2013</td>\n",
       "      <td>Grey</td>\n",
       "      <td>M.sc</td>\n",
       "      <td>1</td>\n",
       "    </tr>\n",
       "    <tr>\n",
       "      <th>7</th>\n",
       "      <td>Madhuri</td>\n",
       "      <td>Rahata</td>\n",
       "      <td>5/2/2015</td>\n",
       "      <td>Pink</td>\n",
       "      <td>B.sc</td>\n",
       "      <td>16</td>\n",
       "    </tr>\n",
       "  </tbody>\n",
       "</table>\n",
       "</div>"
      ],
      "text/plain": [
       "      Name        City        BOD Fav-Colour Education  R.No\n",
       "0    Komal  Shrirampur   5/1/2001       Pink      B.Sc    11\n",
       "1     Riya     Sangali   5/6/2003      Black      M.Sc    12\n",
       "2     Savi        Pune  23/3/2004        Red       BEd    10\n",
       "3    Divya         Goa   5/5/1999     Orange      M.CS     9\n",
       "4     Ravi     Belapur   5/2/2017      White       MCA    13\n",
       "5  Supriya      Satara   5/3/2019     Yellow       DEd    15\n",
       "6   Sapana       Nasik   5/1/2013       Grey      M.sc     1\n",
       "7  Madhuri      Rahata   5/2/2015       Pink      B.sc    16"
      ]
     },
     "execution_count": 63,
     "metadata": {},
     "output_type": "execute_result"
    }
   ],
   "source": [
    "Dataset={'Name':['Komal','Riya','Savi','Divya','Ravi','Supriya','Sapana','Madhuri'], \n",
    "         'City':['Shrirampur','Sangali','Pune','Goa','Belapur','Satara','Nasik','Rahata'],\n",
    "         'BOD':['5/1/2001','5/6/2003','23/3/2004','5/5/1999','5/2/2017','5/3/2019','5/1/2013','5/2/2015'],\n",
    "         'Fav-Colour':['Pink','Black','Red','Orange','White','Yellow','Grey','Pink'],\n",
    "         'Education':['B.Sc','M.Sc','BEd','M.CS','MCA','DEd','M.sc','B.sc'],\n",
    "         'R.No':[11,12,10,9,13,15,1,16] }\n",
    "df=pd.DataFrame(Dataset)\n",
    "df"
   ]
  },
  {
   "cell_type": "code",
   "execution_count": 65,
   "id": "068392ae",
   "metadata": {},
   "outputs": [],
   "source": [
    "csv_data = df.to_csv()\n"
   ]
  },
  {
   "cell_type": "code",
   "execution_count": 66,
   "id": "351ae53d",
   "metadata": {},
   "outputs": [
    {
     "name": "stdout",
     "output_type": "stream",
     "text": [
      ",Name,City,BOD,Fav-Colour,Education,R.No\r\n",
      "0,Komal,Shrirampur,5/1/2001,Pink,B.Sc,11\r\n",
      "1,Riya,Sangali,5/6/2003,Black,M.Sc,12\r\n",
      "2,Savi,Pune,23/3/2004,Red,BEd,10\r\n",
      "3,Divya,Goa,5/5/1999,Orange,M.CS,9\r\n",
      "4,Ravi,Belapur,5/2/2017,White,MCA,13\r\n",
      "5,Supriya,Satara,5/3/2019,Yellow,DEd,15\r\n",
      "6,Sapana,Nasik,5/1/2013,Grey,M.sc,1\r\n",
      "7,Madhuri,Rahata,5/2/2015,Pink,B.sc,16\r\n",
      "\n"
     ]
    }
   ],
   "source": [
    "print(csv_data)"
   ]
  },
  {
   "cell_type": "code",
   "execution_count": 67,
   "id": "b068911b",
   "metadata": {},
   "outputs": [
    {
     "data": {
      "text/html": [
       "<div>\n",
       "<style scoped>\n",
       "    .dataframe tbody tr th:only-of-type {\n",
       "        vertical-align: middle;\n",
       "    }\n",
       "\n",
       "    .dataframe tbody tr th {\n",
       "        vertical-align: top;\n",
       "    }\n",
       "\n",
       "    .dataframe thead th {\n",
       "        text-align: right;\n",
       "    }\n",
       "</style>\n",
       "<table border=\"1\" class=\"dataframe\">\n",
       "  <thead>\n",
       "    <tr style=\"text-align: right;\">\n",
       "      <th></th>\n",
       "      <th>R.No</th>\n",
       "    </tr>\n",
       "    <tr>\n",
       "      <th>Fav-Colour</th>\n",
       "      <th></th>\n",
       "    </tr>\n",
       "  </thead>\n",
       "  <tbody>\n",
       "    <tr>\n",
       "      <th>Black</th>\n",
       "      <td>12.0</td>\n",
       "    </tr>\n",
       "    <tr>\n",
       "      <th>Grey</th>\n",
       "      <td>1.0</td>\n",
       "    </tr>\n",
       "    <tr>\n",
       "      <th>Orange</th>\n",
       "      <td>9.0</td>\n",
       "    </tr>\n",
       "    <tr>\n",
       "      <th>Pink</th>\n",
       "      <td>13.5</td>\n",
       "    </tr>\n",
       "    <tr>\n",
       "      <th>Red</th>\n",
       "      <td>10.0</td>\n",
       "    </tr>\n",
       "    <tr>\n",
       "      <th>White</th>\n",
       "      <td>13.0</td>\n",
       "    </tr>\n",
       "    <tr>\n",
       "      <th>Yellow</th>\n",
       "      <td>15.0</td>\n",
       "    </tr>\n",
       "  </tbody>\n",
       "</table>\n",
       "</div>"
      ],
      "text/plain": [
       "            R.No\n",
       "Fav-Colour      \n",
       "Black       12.0\n",
       "Grey         1.0\n",
       "Orange       9.0\n",
       "Pink        13.5\n",
       "Red         10.0\n",
       "White       13.0\n",
       "Yellow      15.0"
      ]
     },
     "execution_count": 67,
     "metadata": {},
     "output_type": "execute_result"
    }
   ],
   "source": [
    "df.pivot_table(index='Fav-Colour')"
   ]
  },
  {
   "cell_type": "code",
   "execution_count": 76,
   "id": "a42e8878",
   "metadata": {},
   "outputs": [
    {
     "data": {
      "text/plain": [
       "Name          False\n",
       "City          False\n",
       "BOD           False\n",
       "Fav-Colour    False\n",
       "Education     False\n",
       "R.No          False\n",
       "dtype: bool"
      ]
     },
     "execution_count": 76,
     "metadata": {},
     "output_type": "execute_result"
    }
   ],
   "source": [
    "df.isnull().any()"
   ]
  },
  {
   "cell_type": "code",
   "execution_count": 78,
   "id": "7d5ba4b6",
   "metadata": {},
   "outputs": [
    {
     "data": {
      "text/plain": [
       "(8, 6)"
      ]
     },
     "execution_count": 78,
     "metadata": {},
     "output_type": "execute_result"
    }
   ],
   "source": [
    "df.shape"
   ]
  },
  {
   "cell_type": "code",
   "execution_count": 71,
   "id": "1fc4ab51",
   "metadata": {},
   "outputs": [
    {
     "data": {
      "text/html": [
       "<div>\n",
       "<style scoped>\n",
       "    .dataframe tbody tr th:only-of-type {\n",
       "        vertical-align: middle;\n",
       "    }\n",
       "\n",
       "    .dataframe tbody tr th {\n",
       "        vertical-align: top;\n",
       "    }\n",
       "\n",
       "    .dataframe thead th {\n",
       "        text-align: right;\n",
       "    }\n",
       "</style>\n",
       "<table border=\"1\" class=\"dataframe\">\n",
       "  <thead>\n",
       "    <tr style=\"text-align: right;\">\n",
       "      <th></th>\n",
       "      <th>Name</th>\n",
       "      <th>City</th>\n",
       "      <th>BOD</th>\n",
       "      <th>Fav-Colour</th>\n",
       "      <th>Education</th>\n",
       "      <th>R.No</th>\n",
       "    </tr>\n",
       "  </thead>\n",
       "  <tbody>\n",
       "    <tr>\n",
       "      <th>0</th>\n",
       "      <td>Komal</td>\n",
       "      <td>Shrirampur</td>\n",
       "      <td>5/1/2001</td>\n",
       "      <td>Pink</td>\n",
       "      <td>B.Sc</td>\n",
       "      <td>11</td>\n",
       "    </tr>\n",
       "    <tr>\n",
       "      <th>1</th>\n",
       "      <td>Riya</td>\n",
       "      <td>Sangali</td>\n",
       "      <td>5/6/2003</td>\n",
       "      <td>Black</td>\n",
       "      <td>M.Sc</td>\n",
       "      <td>12</td>\n",
       "    </tr>\n",
       "    <tr>\n",
       "      <th>2</th>\n",
       "      <td>Savi</td>\n",
       "      <td>Pune</td>\n",
       "      <td>23/3/2004</td>\n",
       "      <td>Red</td>\n",
       "      <td>BEd</td>\n",
       "      <td>10</td>\n",
       "    </tr>\n",
       "    <tr>\n",
       "      <th>3</th>\n",
       "      <td>Divya</td>\n",
       "      <td>Goa</td>\n",
       "      <td>5/5/1999</td>\n",
       "      <td>Orange</td>\n",
       "      <td>M.CS</td>\n",
       "      <td>9</td>\n",
       "    </tr>\n",
       "    <tr>\n",
       "      <th>4</th>\n",
       "      <td>Ravi</td>\n",
       "      <td>Belapur</td>\n",
       "      <td>5/2/2017</td>\n",
       "      <td>White</td>\n",
       "      <td>MCA</td>\n",
       "      <td>13</td>\n",
       "    </tr>\n",
       "  </tbody>\n",
       "</table>\n",
       "</div>"
      ],
      "text/plain": [
       "    Name        City        BOD Fav-Colour Education  R.No\n",
       "0  Komal  Shrirampur   5/1/2001       Pink      B.Sc    11\n",
       "1   Riya     Sangali   5/6/2003      Black      M.Sc    12\n",
       "2   Savi        Pune  23/3/2004        Red       BEd    10\n",
       "3  Divya         Goa   5/5/1999     Orange      M.CS     9\n",
       "4   Ravi     Belapur   5/2/2017      White       MCA    13"
      ]
     },
     "execution_count": 71,
     "metadata": {},
     "output_type": "execute_result"
    }
   ],
   "source": [
    "df.head()"
   ]
  },
  {
   "cell_type": "code",
   "execution_count": 72,
   "id": "97e8a29c",
   "metadata": {},
   "outputs": [
    {
     "data": {
      "text/html": [
       "<div>\n",
       "<style scoped>\n",
       "    .dataframe tbody tr th:only-of-type {\n",
       "        vertical-align: middle;\n",
       "    }\n",
       "\n",
       "    .dataframe tbody tr th {\n",
       "        vertical-align: top;\n",
       "    }\n",
       "\n",
       "    .dataframe thead th {\n",
       "        text-align: right;\n",
       "    }\n",
       "</style>\n",
       "<table border=\"1\" class=\"dataframe\">\n",
       "  <thead>\n",
       "    <tr style=\"text-align: right;\">\n",
       "      <th></th>\n",
       "      <th>Name</th>\n",
       "      <th>City</th>\n",
       "      <th>BOD</th>\n",
       "      <th>Fav-Colour</th>\n",
       "      <th>Education</th>\n",
       "      <th>R.No</th>\n",
       "    </tr>\n",
       "  </thead>\n",
       "  <tbody>\n",
       "    <tr>\n",
       "      <th>3</th>\n",
       "      <td>Divya</td>\n",
       "      <td>Goa</td>\n",
       "      <td>5/5/1999</td>\n",
       "      <td>Orange</td>\n",
       "      <td>M.CS</td>\n",
       "      <td>9</td>\n",
       "    </tr>\n",
       "    <tr>\n",
       "      <th>4</th>\n",
       "      <td>Ravi</td>\n",
       "      <td>Belapur</td>\n",
       "      <td>5/2/2017</td>\n",
       "      <td>White</td>\n",
       "      <td>MCA</td>\n",
       "      <td>13</td>\n",
       "    </tr>\n",
       "    <tr>\n",
       "      <th>5</th>\n",
       "      <td>Supriya</td>\n",
       "      <td>Satara</td>\n",
       "      <td>5/3/2019</td>\n",
       "      <td>Yellow</td>\n",
       "      <td>DEd</td>\n",
       "      <td>15</td>\n",
       "    </tr>\n",
       "    <tr>\n",
       "      <th>6</th>\n",
       "      <td>Sapana</td>\n",
       "      <td>Nasik</td>\n",
       "      <td>5/1/2013</td>\n",
       "      <td>Grey</td>\n",
       "      <td>M.sc</td>\n",
       "      <td>1</td>\n",
       "    </tr>\n",
       "    <tr>\n",
       "      <th>7</th>\n",
       "      <td>Madhuri</td>\n",
       "      <td>Rahata</td>\n",
       "      <td>5/2/2015</td>\n",
       "      <td>Pink</td>\n",
       "      <td>B.sc</td>\n",
       "      <td>16</td>\n",
       "    </tr>\n",
       "  </tbody>\n",
       "</table>\n",
       "</div>"
      ],
      "text/plain": [
       "      Name     City       BOD Fav-Colour Education  R.No\n",
       "3    Divya      Goa  5/5/1999     Orange      M.CS     9\n",
       "4     Ravi  Belapur  5/2/2017      White       MCA    13\n",
       "5  Supriya   Satara  5/3/2019     Yellow       DEd    15\n",
       "6   Sapana    Nasik  5/1/2013       Grey      M.sc     1\n",
       "7  Madhuri   Rahata  5/2/2015       Pink      B.sc    16"
      ]
     },
     "execution_count": 72,
     "metadata": {},
     "output_type": "execute_result"
    }
   ],
   "source": [
    "df.tail()"
   ]
  },
  {
   "cell_type": "code",
   "execution_count": 73,
   "id": "8edadb31",
   "metadata": {},
   "outputs": [
    {
     "name": "stdout",
     "output_type": "stream",
     "text": [
      "<class 'pandas.core.frame.DataFrame'>\n",
      "RangeIndex: 8 entries, 0 to 7\n",
      "Data columns (total 6 columns):\n",
      " #   Column      Non-Null Count  Dtype \n",
      "---  ------      --------------  ----- \n",
      " 0   Name        8 non-null      object\n",
      " 1   City        8 non-null      object\n",
      " 2   BOD         8 non-null      object\n",
      " 3   Fav-Colour  8 non-null      object\n",
      " 4   Education   8 non-null      object\n",
      " 5   R.No        8 non-null      int64 \n",
      "dtypes: int64(1), object(5)\n",
      "memory usage: 512.0+ bytes\n"
     ]
    }
   ],
   "source": [
    "df.info()"
   ]
  },
  {
   "cell_type": "code",
   "execution_count": 75,
   "id": "384632b9",
   "metadata": {},
   "outputs": [
    {
     "data": {
      "text/html": [
       "<div>\n",
       "<style scoped>\n",
       "    .dataframe tbody tr th:only-of-type {\n",
       "        vertical-align: middle;\n",
       "    }\n",
       "\n",
       "    .dataframe tbody tr th {\n",
       "        vertical-align: top;\n",
       "    }\n",
       "\n",
       "    .dataframe thead th {\n",
       "        text-align: right;\n",
       "    }\n",
       "</style>\n",
       "<table border=\"1\" class=\"dataframe\">\n",
       "  <thead>\n",
       "    <tr style=\"text-align: right;\">\n",
       "      <th></th>\n",
       "      <th>R.No</th>\n",
       "    </tr>\n",
       "  </thead>\n",
       "  <tbody>\n",
       "    <tr>\n",
       "      <th>count</th>\n",
       "      <td>8.000000</td>\n",
       "    </tr>\n",
       "    <tr>\n",
       "      <th>mean</th>\n",
       "      <td>10.875000</td>\n",
       "    </tr>\n",
       "    <tr>\n",
       "      <th>std</th>\n",
       "      <td>4.642582</td>\n",
       "    </tr>\n",
       "    <tr>\n",
       "      <th>min</th>\n",
       "      <td>1.000000</td>\n",
       "    </tr>\n",
       "    <tr>\n",
       "      <th>25%</th>\n",
       "      <td>9.750000</td>\n",
       "    </tr>\n",
       "    <tr>\n",
       "      <th>50%</th>\n",
       "      <td>11.500000</td>\n",
       "    </tr>\n",
       "    <tr>\n",
       "      <th>75%</th>\n",
       "      <td>13.500000</td>\n",
       "    </tr>\n",
       "    <tr>\n",
       "      <th>max</th>\n",
       "      <td>16.000000</td>\n",
       "    </tr>\n",
       "  </tbody>\n",
       "</table>\n",
       "</div>"
      ],
      "text/plain": [
       "            R.No\n",
       "count   8.000000\n",
       "mean   10.875000\n",
       "std     4.642582\n",
       "min     1.000000\n",
       "25%     9.750000\n",
       "50%    11.500000\n",
       "75%    13.500000\n",
       "max    16.000000"
      ]
     },
     "execution_count": 75,
     "metadata": {},
     "output_type": "execute_result"
    }
   ],
   "source": [
    "df.describe()"
   ]
  },
  {
   "cell_type": "code",
   "execution_count": null,
   "id": "64bdd29d",
   "metadata": {},
   "outputs": [],
   "source": []
  },
  {
   "cell_type": "code",
   "execution_count": null,
   "id": "35e05544",
   "metadata": {},
   "outputs": [],
   "source": []
  }
 ],
 "metadata": {
  "kernelspec": {
   "display_name": "Python 3 (ipykernel)",
   "language": "python",
   "name": "python3"
  },
  "language_info": {
   "codemirror_mode": {
    "name": "ipython",
    "version": 3
   },
   "file_extension": ".py",
   "mimetype": "text/x-python",
   "name": "python",
   "nbconvert_exporter": "python",
   "pygments_lexer": "ipython3",
   "version": "3.9.7"
  }
 },
 "nbformat": 4,
 "nbformat_minor": 5
}
