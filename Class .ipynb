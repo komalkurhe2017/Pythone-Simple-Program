{
 "cells": [
  {
   "cell_type": "code",
   "execution_count": 3,
   "id": "cf8680ac",
   "metadata": {},
   "outputs": [],
   "source": [
    "def login():\n",
    "    pro=[]\n",
    "    username=input(\"Enter the username  :  \")\n",
    "    passward=int(input(\"enter the passward  : \"))\n",
    "    pro.append(username)\n",
    "    pro.append(passward)\n",
    "    print(\"my profile detail: \",pro)\n",
    "        "
   ]
  },
  {
   "cell_type": "code",
   "execution_count": 4,
   "id": "7443d3c1",
   "metadata": {},
   "outputs": [
    {
     "name": "stdout",
     "output_type": "stream",
     "text": [
      "Enter the username  :  Savi\n",
      "enter the passward  : 7876\n",
      "my profile detail:  ['Savi', 7876]\n"
     ]
    }
   ],
   "source": [
    "login()"
   ]
  },
  {
   "cell_type": "code",
   "execution_count": 5,
   "id": "d049d6a2",
   "metadata": {},
   "outputs": [
    {
     "name": "stdout",
     "output_type": "stream",
     "text": [
      "enter the name: Komal\n",
      "enter the number: 9876757789\n",
      "my name is :  Komal 9876757789\n",
      "my name is :  Komal 9876757789\n"
     ]
    }
   ],
   "source": [
    "class person:\n",
    "    def __init__(self,name,num):\n",
    "        self.name=name\n",
    "        self.num=num\n",
    "    def show(self):\n",
    "        print(\"my name is : \",self.name,self.num)\n",
    "name=input(\"enter the name: \")\n",
    "num=int(input(\"enter the number: \"))\n",
    "p1=person(name,num)\n",
    "p2=person(name,num)\n",
    "\n",
    "p1.show()\n",
    "p2.show()\n",
    "    "
   ]
  },
  {
   "cell_type": "code",
   "execution_count": 6,
   "id": "74a7ceff",
   "metadata": {},
   "outputs": [
    {
     "name": "stdout",
     "output_type": "stream",
     "text": [
      "Please enter the name: komal\n",
      "Please enter the number: 8667789\n",
      "my name is :  komal 8667789\n"
     ]
    }
   ],
   "source": [
    "class person:\n",
    "    def __init__(self,name,num):\n",
    "        self.name=name\n",
    "        self.num=num\n",
    "    def show(self):\n",
    "        print(\"my name is : \",self.name,self.num)\n",
    "name=input(\"Please enter the name: \")\n",
    "num=input(\"Please enter the number: \")\n",
    "\n",
    "p1=person(name,num)\n",
    "p1.show()\n"
   ]
  },
  {
   "cell_type": "code",
   "execution_count": 7,
   "id": "ec145b5b",
   "metadata": {},
   "outputs": [
    {
     "name": "stdout",
     "output_type": "stream",
     "text": [
      "53\n"
     ]
    }
   ],
   "source": [
    "#class is a collection of method and objects\n",
    "class person:\n",
    "    def school(self):\n",
    "        self.a=20\n",
    "        self.b=33\n",
    "        print(self.a+self.b)\n",
    "obj=person()\n",
    "obj.school()"
   ]
  },
  {
   "cell_type": "code",
   "execution_count": 8,
   "id": "7efa2c18",
   "metadata": {},
   "outputs": [
    {
     "name": "stdout",
     "output_type": "stream",
     "text": [
      "53\n",
      "My name is:   Komal My nuber is:  9767971466\n"
     ]
    }
   ],
   "source": [
    "class person:\n",
    "    def school(self):\n",
    "        self.a=20\n",
    "        self.b=33\n",
    "        print(self.a+self.b)\n",
    "    def match(self,name,num):\n",
    "        print(\"My name is:  \",name,  \"My nuber is: \",num)\n",
    "obj=person()\n",
    "obj.school()\n",
    "obj.match(\"Komal\",9767971466)"
   ]
  },
  {
   "cell_type": "code",
   "execution_count": 9,
   "id": "fb038330",
   "metadata": {},
   "outputs": [
    {
     "name": "stdout",
     "output_type": "stream",
     "text": [
      "7\n",
      "My name is:   Komal My nuber is:  9767971466\n",
      "My name is:   Komal My nuber is:  9767971466\n",
      "My name is:   Komal My nuber is:  9767971466\n",
      "My name is:   Komal My nuber is:  9767971466\n",
      "My name is:   Komal My nuber is:  9767971466\n"
     ]
    }
   ],
   "source": [
    "class person:\n",
    "    def school(self):\n",
    "        self.a=2\n",
    "        self.b=5\n",
    "        print(self.a+self.b)\n",
    "    def match(self,name,num):\n",
    "        for x in range(self.b):\n",
    "            print(\"My name is:  \",name,  \"My nuber is: \",num)\n",
    "obj=person()\n",
    "obj.school()\n",
    "obj.match(\"Komal\",9767971466)"
   ]
  },
  {
   "cell_type": "code",
   "execution_count": 10,
   "id": "9b000835",
   "metadata": {},
   "outputs": [
    {
     "name": "stdout",
     "output_type": "stream",
     "text": [
      "3\n",
      "My name is:   Komal and My number is:  9767971466\n",
      "My Course name is:  Data Science And Machine Leraning\n"
     ]
    }
   ],
   "source": [
    "class person:\n",
    "    def school(self):\n",
    "        self.a=2\n",
    "        self.b=1\n",
    "        self.name=\"Data Science\"\n",
    "        print(self.a+self.b)\n",
    "    def match(self,name,num):\n",
    "        for x in range(self.b):\n",
    "            print(\"My name is:  \",name, \"and\", \"My number is: \",num)\n",
    "    def catch(self,bat):\n",
    "        print(\"My Course name is: \",self.name,bat)\n",
    "        \n",
    "obj=person()\n",
    "obj.school()\n",
    "obj.match(\"Komal\",9767971466)\n",
    "obj.catch(\"And Machine Leraning\")"
   ]
  },
  {
   "cell_type": "code",
   "execution_count": 11,
   "id": "04df1748",
   "metadata": {},
   "outputs": [
    {
     "name": "stdout",
     "output_type": "stream",
     "text": [
      "My addition is:   23\n",
      "This is not Belapur....\n",
      "This is not Belapur....\n",
      "This is a Belapur....\n",
      "This is not Belapur....\n"
     ]
    }
   ],
   "source": [
    "class mobile:\n",
    "    def __init__(self):\n",
    "        self.a=12\n",
    "        self.b=11\n",
    "        print(\"My addition is:  \",self.a+self.b)\n",
    "    def show(self):\n",
    "        city=[\"Pune\",\"Shrirampur\",\"Belapur\",\"Ahmednagar\"]\n",
    "        for x in city:\n",
    "            if x==\"Belapur\":\n",
    "                print(\"This is a Belapur....\")\n",
    "            else:\n",
    "                print(\"This is not Belapur....\")\n",
    "p1=mobile()\n",
    "p1.show()\n"
   ]
  },
  {
   "cell_type": "code",
   "execution_count": 12,
   "id": "dd8c846e",
   "metadata": {},
   "outputs": [
    {
     "name": "stdout",
     "output_type": "stream",
     "text": [
      "My addition is:   KomalKurhe\n"
     ]
    }
   ],
   "source": [
    "class mobile:\n",
    "    def __init__(self,name,surname):\n",
    "        self.a=name\n",
    "        self.b=surname\n",
    "        print(\"My addition is:  \",self.a+self.b)\n",
    "    def show(self):\n",
    "        city=[\"Pune\",\"Shrirampur\",\"Belapur\",\"Ahmednagar\"]\n",
    "        for x in city:\n",
    "            if x==\"Belapur\":\n",
    "                print(\"This is a Belapur....\")\n",
    "            else:\n",
    "                print(\"This is not Belapur....\")\n",
    "p1=mobile(\"Komal\",\"Kurhe\")\n",
    "\n"
   ]
  },
  {
   "cell_type": "code",
   "execution_count": 13,
   "id": "999942e1",
   "metadata": {},
   "outputs": [
    {
     "name": "stdout",
     "output_type": "stream",
     "text": [
      "My addition is:   Komal Kurhe\n",
      "This is not Belapur....\n",
      "This is not Belapur....\n",
      "This is a Belapur....\n",
      "This is not Belapur....\n"
     ]
    }
   ],
   "source": [
    "class mobile:\n",
    "    def __init__(self,name,surname):\n",
    "        self.a=name\n",
    "        self.b=surname\n",
    "        print(\"My addition is:  \",self.a+self.b)\n",
    "    def __init__(self,name1,surname1):\n",
    "        self.a=name1\n",
    "        self.b=surname1\n",
    "        \n",
    "    def __init__(self,name1,middlename,surname1):\n",
    "        self.a=name1\n",
    "        self.b=middlename\n",
    "        self.c=surname1\n",
    "        print(\"My addition is:  \",self.a,self.c)\n",
    "\n",
    "\n",
    "    def show(self):\n",
    "        city=[\"Pune\",\"Shrirampur\",\"Belapur\",\"Ahmednagar\"]\n",
    "        for x in city:\n",
    "            if x==\"Belapur\":\n",
    "                print(\"This is a Belapur....\")\n",
    "            else:\n",
    "                print(\"This is not Belapur....\")\n",
    "p1=mobile(\"Komal\",\"Keru\",\"Kurhe\")\n",
    "p1.show()\n"
   ]
  },
  {
   "cell_type": "code",
   "execution_count": 14,
   "id": "58c1ce15",
   "metadata": {},
   "outputs": [
    {
     "name": "stdout",
     "output_type": "stream",
     "text": [
      "My addition is:   Komal Kurhe\n",
      "This is not Belapur....\n",
      "This is not Belapur....\n",
      "This is a Belapur....\n",
      "This is not Belapur....\n"
     ]
    }
   ],
   "source": [
    "# Class Initialization\n",
    "class mobile:\n",
    "    def __init__(self,name,surname):\n",
    "        self.a=name\n",
    "        self.b=surname\n",
    "        print(\"My addition is:  \",self.a+self.b)\n",
    "    def __init__(self,name1,surname1):\n",
    "        self.a=name1\n",
    "        self.b=surname1\n",
    "        \n",
    "    def __init__(self,name1,middlename,surname1):\n",
    "        self.a=name1\n",
    "        self.b=middlename\n",
    "        self.c=surname1\n",
    "        print(\"My addition is:  \",self.a,self.c)\n",
    "\n",
    "\n",
    "    def show(self):\n",
    "        city=[\"Pune\",\"Shrirampur\",\"Belapur\",\"Ahmednagar\"]\n",
    "        for x in city:\n",
    "            if x==\"Belapur\":\n",
    "                print(\"This is a Belapur....\")\n",
    "            else:\n",
    "                print(\"This is not Belapur....\")\n",
    "p1=mobile(\"Komal\",\"Keru\",\"Kurhe\")\n",
    "p1.show()\n",
    "\n",
    "\n"
   ]
  },
  {
   "cell_type": "code",
   "execution_count": 15,
   "id": "f4bbe32a",
   "metadata": {},
   "outputs": [
    {
     "name": "stdout",
     "output_type": "stream",
     "text": [
      "3\n",
      "My name is:   Komal and My number is:  9767971466\n",
      "My Course name is:  Data Science 9767971466\n"
     ]
    }
   ],
   "source": [
    "class person:\n",
    "    def school(self):\n",
    "        self.a=2\n",
    "        self.b=1\n",
    "        self.name=\"Data Science\"\n",
    "        print(self.a+self.b)\n",
    "    def match(self,name,num):\n",
    "        for x in range(self.b):\n",
    "            print(\"My name is:  \",name, \"and\", \"My number is: \",num)\n",
    "            return num\n",
    "    def catch(self,bat):\n",
    "        print(\"My Course name is: \",self.name,bat)\n",
    "        \n",
    "obj=person()\n",
    "obj.school()\n",
    "ab=obj.match(\"Komal\",9767971466)\n",
    "obj.catch(ab)"
   ]
  },
  {
   "cell_type": "code",
   "execution_count": null,
   "id": "ad280dca",
   "metadata": {},
   "outputs": [],
   "source": []
  },
  {
   "cell_type": "code",
   "execution_count": null,
   "id": "e1d6190a",
   "metadata": {},
   "outputs": [],
   "source": []
  },
  {
   "cell_type": "code",
   "execution_count": null,
   "id": "d90eb1bc",
   "metadata": {},
   "outputs": [],
   "source": []
  }
 ],
 "metadata": {
  "kernelspec": {
   "display_name": "Python 3 (ipykernel)",
   "language": "python",
   "name": "python3"
  },
  "language_info": {
   "codemirror_mode": {
    "name": "ipython",
    "version": 3
   },
   "file_extension": ".py",
   "mimetype": "text/x-python",
   "name": "python",
   "nbconvert_exporter": "python",
   "pygments_lexer": "ipython3",
   "version": "3.9.7"
  }
 },
 "nbformat": 4,
 "nbformat_minor": 5
}
