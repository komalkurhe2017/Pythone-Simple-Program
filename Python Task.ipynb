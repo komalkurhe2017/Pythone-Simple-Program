{
 "cells": [
  {
   "cell_type": "markdown",
   "id": "84aee852",
   "metadata": {},
   "source": [
    "# Q.1) Take a five student Name with marks and calculate the total and avrage of marks"
   ]
  },
  {
   "cell_type": "code",
   "execution_count": 7,
   "id": "b81fb2ba",
   "metadata": {},
   "outputs": [
    {
     "name": "stdout",
     "output_type": "stream",
     "text": [
      "Enter the Marks: 99\n",
      "Enter the Marks: 98\n",
      "Enter the Marks: 78\n",
      "275 Savita\n",
      "91.66666666666667 Savita\n",
      "Enter the Marks: 78\n",
      "Enter the Marks: 78\n",
      "Enter the Marks: 99\n",
      "530 Ravi\n",
      "176.66666666666666 Ravi\n",
      "Enter the Marks: 78\n",
      "Enter the Marks: 99\n",
      "Enter the Marks: 98\n",
      "805 Divya\n",
      "268.3333333333333 Divya\n",
      "Enter the Marks: 89\n",
      "Enter the Marks: 98\n",
      "Enter the Marks: 77\n",
      "1069 Komal\n",
      "356.3333333333333 Komal\n",
      "Enter the Marks: 99\n",
      "Enter the Marks: 98\n",
      "Enter the Marks: 98\n",
      "1364 Sanu\n",
      "454.6666666666667 Sanu\n"
     ]
    }
   ],
   "source": [
    "Student=[\"Savita\",\"Ravi\",\"Divya\",\"Komal\",\"Sanu\"]\n",
    "Details=[]\n",
    "for x in Student:\n",
    "    for y in range(3):\n",
    "        marks=int(input(\"Enter the Marks: \"))\n",
    "        Details.append(marks)\n",
    "    Total=sum(Details)\n",
    "    avg=Total/3\n",
    "    print(Total,x)\n",
    "    print(avg,x)"
   ]
  },
  {
   "cell_type": "markdown",
   "id": "d49df26a",
   "metadata": {},
   "source": [
    "# Take a 10-names and make count the string stored in a list.\n",
    "- Find and show [-4: ]\n",
    "- Remove the -2 position\n",
    "- Add 2 items in 2, 3 position\n",
    "- Pop () using remove the items\n",
    "- How to clear list and show an example\n",
    "- How to delete the list show the example"
   ]
  },
  {
   "cell_type": "code",
   "execution_count": 9,
   "id": "9306dc21",
   "metadata": {},
   "outputs": [],
   "source": [
    "Name=[\"Komal\",\"Supriya\",\"Priya\",\"Priyanka\",\"Madhuri\",\"Divya\",\"Sanu\",\"Sapana\",\"Mona\"]"
   ]
  },
  {
   "cell_type": "code",
   "execution_count": 10,
   "id": "9f2fac74",
   "metadata": {},
   "outputs": [
    {
     "data": {
      "text/plain": [
       "['Komal',\n",
       " 'Supriya',\n",
       " 'Priya',\n",
       " 'Priyanka',\n",
       " 'Madhuri',\n",
       " 'Divya',\n",
       " 'Sanu',\n",
       " 'Sapana',\n",
       " 'Mona']"
      ]
     },
     "execution_count": 10,
     "metadata": {},
     "output_type": "execute_result"
    }
   ],
   "source": [
    "Name"
   ]
  },
  {
   "cell_type": "code",
   "execution_count": 12,
   "id": "f9f50599",
   "metadata": {},
   "outputs": [
    {
     "data": {
      "text/plain": [
       "['Divya', 'Sanu', 'Sapana', 'Mona']"
      ]
     },
     "execution_count": 12,
     "metadata": {},
     "output_type": "execute_result"
    }
   ],
   "source": [
    "Name[-4:]   #- Find and show [-4: ]\n"
   ]
  },
  {
   "cell_type": "code",
   "execution_count": 27,
   "id": "f9f89018",
   "metadata": {},
   "outputs": [],
   "source": [
    "# Add 2 items in 2, 3 position\n",
    "\n",
    "Name.insert(2,'Renu')\n"
   ]
  },
  {
   "cell_type": "code",
   "execution_count": 28,
   "id": "10e6dfa4",
   "metadata": {},
   "outputs": [
    {
     "data": {
      "text/plain": [
       "['Ravi', 'sai', 'Renu', 'Renu', 'sai']"
      ]
     },
     "execution_count": 28,
     "metadata": {},
     "output_type": "execute_result"
    }
   ],
   "source": [
    "Name"
   ]
  },
  {
   "cell_type": "code",
   "execution_count": 29,
   "id": "cf5a4e4c",
   "metadata": {},
   "outputs": [],
   "source": [
    "Name.insert(3,'Nikita')\n"
   ]
  },
  {
   "cell_type": "code",
   "execution_count": 30,
   "id": "121c8103",
   "metadata": {},
   "outputs": [
    {
     "data": {
      "text/plain": [
       "['Ravi', 'sai', 'Renu', 'Nikita', 'Renu', 'sai']"
      ]
     },
     "execution_count": 30,
     "metadata": {},
     "output_type": "execute_result"
    }
   ],
   "source": [
    "Name"
   ]
  },
  {
   "cell_type": "code",
   "execution_count": 13,
   "id": "cef3889d",
   "metadata": {},
   "outputs": [],
   "source": [
    "#Remove the -2 position\n",
    "\n",
    "Name.remove(\"Sapana\")\n"
   ]
  },
  {
   "cell_type": "code",
   "execution_count": 14,
   "id": "3770d607",
   "metadata": {},
   "outputs": [
    {
     "data": {
      "text/plain": [
       "['Komal', 'Supriya', 'Priya', 'Priyanka', 'Madhuri', 'Divya', 'Sanu', 'Mona']"
      ]
     },
     "execution_count": 14,
     "metadata": {},
     "output_type": "execute_result"
    }
   ],
   "source": [
    "Name"
   ]
  },
  {
   "cell_type": "code",
   "execution_count": 15,
   "id": "8453871a",
   "metadata": {},
   "outputs": [
    {
     "data": {
      "text/plain": [
       "'Mona'"
      ]
     },
     "execution_count": 15,
     "metadata": {},
     "output_type": "execute_result"
    }
   ],
   "source": [
    "# Pop () using remove the items\n",
    "Name.pop()"
   ]
  },
  {
   "cell_type": "code",
   "execution_count": 16,
   "id": "ff1703ec",
   "metadata": {},
   "outputs": [
    {
     "data": {
      "text/plain": [
       "['Komal', 'Supriya', 'Priya', 'Priyanka', 'Madhuri', 'Divya', 'Sanu']"
      ]
     },
     "execution_count": 16,
     "metadata": {},
     "output_type": "execute_result"
    }
   ],
   "source": [
    "Name"
   ]
  },
  {
   "cell_type": "code",
   "execution_count": 35,
   "id": "97133033",
   "metadata": {},
   "outputs": [],
   "source": [
    "# How to delete the list show the example\n",
    "del()"
   ]
  },
  {
   "cell_type": "code",
   "execution_count": 36,
   "id": "a2f35f84",
   "metadata": {},
   "outputs": [
    {
     "data": {
      "text/plain": [
       "['Ravi', 'sai', 'Renu', 'Nikita', 'Renu', 'sai']"
      ]
     },
     "execution_count": 36,
     "metadata": {},
     "output_type": "execute_result"
    }
   ],
   "source": [
    "Name"
   ]
  },
  {
   "cell_type": "code",
   "execution_count": 17,
   "id": "53c9d718",
   "metadata": {},
   "outputs": [],
   "source": [
    "#How to clear list and show an example\n",
    "Name.clear()\n"
   ]
  },
  {
   "cell_type": "code",
   "execution_count": 18,
   "id": "aa835c29",
   "metadata": {},
   "outputs": [
    {
     "data": {
      "text/plain": [
       "[]"
      ]
     },
     "execution_count": 18,
     "metadata": {},
     "output_type": "execute_result"
    }
   ],
   "source": [
    "Name"
   ]
  },
  {
   "cell_type": "markdown",
   "id": "1107e3a7",
   "metadata": {},
   "source": [
    "# Q.3Define a dictionary with 6 keys and values pair and how to add new items in the dictionaryand show with an example\n"
   ]
  },
  {
   "cell_type": "code",
   "execution_count": 38,
   "id": "561fb47c",
   "metadata": {},
   "outputs": [],
   "source": [
    "data={\"Name\" : [\"Komal\",\"Supriya\",\"Sapana\"],\n",
    "     \"Phone Number\":[9767971466,9878789878,4567345676],\n",
    "     \"city\":[\"Belapur\",\"Umbergon\",\"Nagar\"],\n",
    "      \"Nic-Name\":[\"Komu\",\"Chakuli\",\"Didi\"],\n",
    "      \"Fav_Place\":[\"Goa\",\"Nighoj\",\"Nashik\"],\n",
    "      \"Fav_Fruit\":[\"Banana\",\"Apple\",\"Banana\"]\n",
    "     }\n",
    "data[\"Branch\"]=[\"M.Sc\",\"B.Sc\",\"BCS\",\"BCA\"]"
   ]
  },
  {
   "cell_type": "code",
   "execution_count": 39,
   "id": "cf299ac5",
   "metadata": {},
   "outputs": [
    {
     "name": "stdout",
     "output_type": "stream",
     "text": [
      "{'Name': ['Komal', 'Supriya', 'Sapana'], 'Phone Number': [9767971466, 9878789878, 4567345676], 'city': ['Belapur', 'Umbergon', 'Nagar'], 'Nic-Name': ['Komu', 'Chakuli', 'Didi'], 'Fav_Place': ['Goa', 'Nighoj', 'Nashik'], 'Fav_Fruit': ['Banana', 'Apple', 'Banana'], 'Branch': ['M.Sc', 'B.Sc', 'BCS', 'BCA']}\n"
     ]
    }
   ],
   "source": [
    "print(data)"
   ]
  },
  {
   "cell_type": "markdown",
   "id": "681b9db4",
   "metadata": {},
   "source": [
    "# Q4) Perform all arithmetic operations on a function"
   ]
  },
  {
   "cell_type": "code",
   "execution_count": 43,
   "id": "930ca130",
   "metadata": {},
   "outputs": [
    {
     "name": "stdout",
     "output_type": "stream",
     "text": [
      "Please Enter the value:   33\n",
      "Please Enter the value:   25\n",
      "The Sum of the Two number  58.0\n",
      "The Subsraction of the Two number  8.0\n",
      "The Multiplication of the Two number  825.0\n",
      "The Division of the Two number  1.32\n",
      "The Modules of the Two number  8.0\n"
     ]
    }
   ],
   "source": [
    "num1=float(input(\"Please Enter the value:   \"))\n",
    "num2=float(input(\"Please Enter the value:   \"))\n",
    "# Addition\n",
    "\n",
    "add=num1 +num2\n",
    "\n",
    "# Sbstraction\n",
    "\n",
    "sub=num1-num2\n",
    "\n",
    "# Multiplication\n",
    "\n",
    "mul=num1*num2\n",
    "\n",
    "# Division\n",
    "\n",
    "div=num1/num2\n",
    "\n",
    "#Modules\n",
    "\n",
    "mod=num1%num2\n",
    "\n",
    "\n",
    "print(\"The Sum of the Two number \", add)\n",
    "print(\"The Subsraction of the Two number \", sub)\n",
    "print(\"The Multiplication of the Two number \", mul)\n",
    "print(\"The Division of the Two number \", div)\n",
    "print(\"The Modules of the Two number \", mod)\n"
   ]
  },
  {
   "cell_type": "code",
   "execution_count": null,
   "id": "00f61f84",
   "metadata": {},
   "outputs": [],
   "source": []
  }
 ],
 "metadata": {
  "kernelspec": {
   "display_name": "Python 3 (ipykernel)",
   "language": "python",
   "name": "python3"
  },
  "language_info": {
   "codemirror_mode": {
    "name": "ipython",
    "version": 3
   },
   "file_extension": ".py",
   "mimetype": "text/x-python",
   "name": "python",
   "nbconvert_exporter": "python",
   "pygments_lexer": "ipython3",
   "version": "3.9.7"
  }
 },
 "nbformat": 4,
 "nbformat_minor": 5
}
