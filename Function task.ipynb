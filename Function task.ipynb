{
 "cells": [
  {
   "cell_type": "code",
   "execution_count": 1,
   "id": "8dd7c7bb",
   "metadata": {},
   "outputs": [],
   "source": [
    "marks_new=[]\n",
    "\n",
    "def students():\n",
    "    for x in range(4):\n",
    "        Marks=input(\"Enter the marks:  \")\n",
    "        marks_new.append(Marks)\n",
    "    return marks_new\n",
    "\n"
   ]
  },
  {
   "cell_type": "code",
   "execution_count": 2,
   "id": "144671ab",
   "metadata": {},
   "outputs": [
    {
     "name": "stdout",
     "output_type": "stream",
     "text": [
      "Enter the marks:  99\n",
      "Enter the marks:  99\n",
      "Enter the marks:  89\n",
      "Enter the marks:  99\n"
     ]
    },
    {
     "data": {
      "text/plain": [
       "['99', '99', '89', '99']"
      ]
     },
     "execution_count": 2,
     "metadata": {},
     "output_type": "execute_result"
    }
   ],
   "source": [
    "students()"
   ]
  },
  {
   "cell_type": "code",
   "execution_count": 3,
   "id": "d9a07b42",
   "metadata": {},
   "outputs": [],
   "source": [
    "name=[]\n",
    "marks_new=[]\n",
    "Total=[]\n",
    "Average=[]\n",
    "def student():\n",
    "    for y in range(2):\n",
    "        na=input(\"enter name: \")\n",
    "        name.append(na)\n",
    "    for x in name:\n",
    "        print(\"Enter marks of: \",x)\n",
    "        for i in range(4):\n",
    "            Marks=int(input(\"Enter the marks:  \"))\n",
    "            marks_new.append(Marks)\n",
    "        total=sum(marks_new)\n",
    "        Total.append(total)\n",
    "        average=total/len(marks_new)\n",
    "        Average.append(average)\n",
    "        marks_new.clear()\n",
    "    return Average\n",
    "    "
   ]
  },
  {
   "cell_type": "code",
   "execution_count": 4,
   "id": "855f344b",
   "metadata": {},
   "outputs": [
    {
     "name": "stdout",
     "output_type": "stream",
     "text": [
      "enter name: diya\n",
      "enter name: sk\n",
      "Enter marks of:  diya\n",
      "Enter the marks:  99\n",
      "Enter the marks:  88\n",
      "Enter the marks:  98\n",
      "Enter the marks:  99\n",
      "Enter marks of:  sk\n",
      "Enter the marks:  99\n",
      "Enter the marks:  98\n",
      "Enter the marks:  89\n",
      "Enter the marks:  98\n"
     ]
    },
    {
     "data": {
      "text/plain": [
       "[96.0, 96.0]"
      ]
     },
     "execution_count": 4,
     "metadata": {},
     "output_type": "execute_result"
    }
   ],
   "source": [
    "student()"
   ]
  },
  {
   "cell_type": "code",
   "execution_count": 6,
   "id": "c6048cf1",
   "metadata": {},
   "outputs": [
    {
     "name": "stdout",
     "output_type": "stream",
     "text": [
      "enter name: kk\n",
      "enter name: siya\n",
      "Enter marks of:  diya\n",
      "Enter the marks:  99\n",
      "Enter the marks:  89\n",
      "Enter the marks:  87\n",
      "Enter the marks:  98\n",
      "Enter marks of:  sk\n",
      "Enter the marks:  89\n",
      "Enter the marks:  99\n",
      "Enter the marks:  88\n",
      "Enter the marks:  99\n",
      "Enter marks of:  kk\n",
      "Enter the marks:  89\n",
      "Enter the marks:  99\n",
      "Enter the marks:  89\n",
      "Enter the marks:  87\n",
      "Enter marks of:  siya\n",
      "Enter the marks:  87\n",
      "Enter the marks:  87\n",
      "Enter the marks:  78\n",
      "Enter the marks:  87\n",
      "Enter marks of:  kk\n",
      "Enter the marks:  78\n",
      "Enter the marks:  88\n",
      "Enter the marks:  78\n",
      "Enter the marks:  88\n",
      "Enter marks of:  siya\n",
      "Enter the marks:  98\n",
      "Enter the marks:  98\n",
      "Enter the marks:  89\n",
      "Enter the marks:  90\n"
     ]
    },
    {
     "data": {
      "text/plain": [
       "[96.0, 96.0, 91.66666666666667, 93.75, 91.0, 84.75, 83.0, 93.75]"
      ]
     },
     "execution_count": 6,
     "metadata": {},
     "output_type": "execute_result"
    }
   ],
   "source": [
    "student()"
   ]
  },
  {
   "cell_type": "code",
   "execution_count": 14,
   "id": "a8fa5389",
   "metadata": {},
   "outputs": [],
   "source": [
    "def city():\n",
    "    City=[\"Goa\",\"Nagar\",\"Pune\"]\n",
    "    for x in City:\n",
    "        print(\"My City\",x)\n",
    "        ab=len(x)\n",
    "        Fav_city=[]\n",
    "        for y in range(ab):\n",
    "            c_new=input(\"My Fav City :  \")\n",
    "            Fav_city.append(c_new)\n",
    "    return Fav_city\n"
   ]
  },
  {
   "cell_type": "code",
   "execution_count": 15,
   "id": "7b83a67b",
   "metadata": {},
   "outputs": [
    {
     "name": "stdout",
     "output_type": "stream",
     "text": [
      "My City Goa\n",
      "My Fav City :  Belapur\n",
      "My Fav City :  Shrirampur\n",
      "My Fav City :  Nagar\n",
      "My City Nagar\n",
      "My Fav City :  Satara\n",
      "My Fav City :  Sangali\n",
      "My Fav City :  Belapur\n",
      "My Fav City :  Shrirampur\n",
      "My Fav City :  Nagar\n",
      "My City Pune\n",
      "My Fav City :  Nagar\n",
      "My Fav City :  Belapur\n",
      "My Fav City :  Shrirampur\n",
      "My Fav City :  Satara\n"
     ]
    },
    {
     "data": {
      "text/plain": [
       "['Nagar', 'Belapur', 'Shrirampur', 'Satara']"
      ]
     },
     "execution_count": 15,
     "metadata": {},
     "output_type": "execute_result"
    }
   ],
   "source": [
    "city()"
   ]
  },
  {
   "cell_type": "code",
   "execution_count": 10,
   "id": "4f39363f",
   "metadata": {},
   "outputs": [],
   "source": [
    "def stud():\n",
    "    Student=[\"Ajay\",\"Divya\",\"Ravi\",\"Savi\"]\n",
    "\n",
    "    for x in Student:\n",
    "        print(\"Details: \",x)\n",
    "        a=[]\n",
    "\n",
    "        for y in range(4):\n",
    "            b=int(input(\"enter the Marks: \"))\n",
    "            a.append(b)\n",
    "        d=sum(a)\n",
    "\n",
    "        e=[]\n",
    "\n",
    "        if d%2==0:\n",
    "            z=d+75\n",
    "            e.append(z)\n",
    "        else:\n",
    "            f=d-25\n",
    "            e.append(f)\n",
    "        print(\"Sum of The Subject :\",d)\n",
    "        print(\"Total :\",e)\n",
    "    "
   ]
  },
  {
   "cell_type": "code",
   "execution_count": 4,
   "id": "ca7eff68",
   "metadata": {},
   "outputs": [
    {
     "name": "stdout",
     "output_type": "stream",
     "text": [
      "Details:  Ajay\n",
      "enter the Marks: 99\n",
      "enter the Marks: 99\n",
      "enter the Marks: 98\n",
      "enter the Marks: 89\n",
      "Sum of The Subject : 385\n",
      "Total : [360]\n",
      "Details:  Divya\n",
      "enter the Marks: 98\n",
      "enter the Marks: 89\n",
      "enter the Marks: 99\n",
      "enter the Marks: 88\n",
      "Sum of The Subject : 374\n",
      "Total : [449]\n",
      "Details:  Ravi\n",
      "enter the Marks: 78\n",
      "enter the Marks: 99\n",
      "enter the Marks: 98\n",
      "enter the Marks: 8\n",
      "Sum of The Subject : 283\n",
      "Total : [258]\n",
      "Details:  Savi\n",
      "enter the Marks: 89\n",
      "enter the Marks: 87\n",
      "enter the Marks: 99\n",
      "enter the Marks: 88\n",
      "Sum of The Subject : 363\n",
      "Total : [338]\n"
     ]
    }
   ],
   "source": [
    "stud()"
   ]
  },
  {
   "cell_type": "code",
   "execution_count": null,
   "id": "66c5ccf1",
   "metadata": {},
   "outputs": [],
   "source": []
  }
 ],
 "metadata": {
  "kernelspec": {
   "display_name": "Python 3 (ipykernel)",
   "language": "python",
   "name": "python3"
  },
  "language_info": {
   "codemirror_mode": {
    "name": "ipython",
    "version": 3
   },
   "file_extension": ".py",
   "mimetype": "text/x-python",
   "name": "python",
   "nbconvert_exporter": "python",
   "pygments_lexer": "ipython3",
   "version": "3.9.7"
  }
 },
 "nbformat": 4,
 "nbformat_minor": 5
}
