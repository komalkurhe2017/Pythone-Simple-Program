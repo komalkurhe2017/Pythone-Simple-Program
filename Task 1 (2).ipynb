{
 "cells": [
  {
   "cell_type": "markdown",
   "id": "ea64dc17",
   "metadata": {},
   "source": [
    "Q.1)\n",
    "creat a list of name and count the lenght of each name"
   ]
  },
  {
   "cell_type": "code",
   "execution_count": 1,
   "id": "d78288e8",
   "metadata": {},
   "outputs": [
    {
     "name": "stdout",
     "output_type": "stream",
     "text": [
      "['Komal', 'Supriya', 'Sapana', 'Divya', 'Mayuri', 'Riya']\n"
     ]
    }
   ],
   "source": [
    "name=[\"Komal\",\"Supriya\",\"Sapana\",\"Divya\",\"Mayuri\",\"Riya\"]\n",
    "print(name)"
   ]
  },
  {
   "cell_type": "code",
   "execution_count": 2,
   "id": "79aadff2",
   "metadata": {},
   "outputs": [
    {
     "data": {
      "text/plain": [
       "6"
      ]
     },
     "execution_count": 2,
     "metadata": {},
     "output_type": "execute_result"
    }
   ],
   "source": [
    "len(name)"
   ]
  },
  {
   "cell_type": "code",
   "execution_count": 3,
   "id": "c36a0992",
   "metadata": {},
   "outputs": [
    {
     "name": "stdout",
     "output_type": "stream",
     "text": [
      "[5, 7, 6, 5, 6, 4]\n"
     ]
    }
   ],
   "source": [
    "x=[]\n",
    "for i in name:\n",
    "    l=len(i)\n",
    "    x.append(l)\n",
    "print(x)\n",
    "    "
   ]
  },
  {
   "cell_type": "markdown",
   "id": "1431d403",
   "metadata": {},
   "source": [
    "Q.2)\n",
    "consider length of name is subject marks and check even or odd"
   ]
  },
  {
   "cell_type": "code",
   "execution_count": 4,
   "id": "681c3cbb",
   "metadata": {},
   "outputs": [
    {
     "name": "stdout",
     "output_type": "stream",
     "text": [
      "5 odd\n",
      "7 odd\n",
      "6 even\n",
      "5 odd\n",
      "6 even\n",
      "4 even\n"
     ]
    }
   ],
   "source": [
    "for marks in x:\n",
    "    if marks%2==0:\n",
    "        print(marks,\"even\")\n",
    "    else:\n",
    "        print(marks,\"odd\")\n"
   ]
  },
  {
   "cell_type": "code",
   "execution_count": 5,
   "id": "b3c578a2",
   "metadata": {},
   "outputs": [
    {
     "name": "stdout",
     "output_type": "stream",
     "text": [
      "33\n"
     ]
    }
   ],
   "source": [
    "total=sum(x)\n",
    "print(total)"
   ]
  },
  {
   "cell_type": "code",
   "execution_count": 6,
   "id": "4d34a628",
   "metadata": {},
   "outputs": [
    {
     "name": "stdout",
     "output_type": "stream",
     "text": [
      "5.5\n"
     ]
    }
   ],
   "source": [
    "avg=total/len(name)\n",
    "print(avg)"
   ]
  },
  {
   "cell_type": "code",
   "execution_count": 7,
   "id": "1fa21d19",
   "metadata": {},
   "outputs": [
    {
     "name": "stdout",
     "output_type": "stream",
     "text": [
      "enter the name: Komal\n",
      "enter the name: Supriya\n",
      "enter the name: Divya\n"
     ]
    }
   ],
   "source": [
    "name_student=[]\n",
    "status=[]\n",
    "details=[]\n",
    "Regionid=[]\n",
    "\n",
    "for x in range(3):\n",
    "    name=input(\"enter the name: \")\n",
    "    name_student.append(name)\n",
    "for y in name_student:\n",
    "    m=len(name_student)\n",
    "        \n",
    "\n",
    "\n",
    "\n",
    "    "
   ]
  },
  {
   "cell_type": "code",
   "execution_count": 8,
   "id": "9c3dd44b",
   "metadata": {},
   "outputs": [
    {
     "name": "stdout",
     "output_type": "stream",
     "text": [
      "[1, 1, 1, 1, 1]\n"
     ]
    }
   ],
   "source": [
    "name_1=[]\n",
    "for i in name:\n",
    "    l=len(i)\n",
    "    name_1.append(l)\n",
    "print(name_1)\n"
   ]
  },
  {
   "cell_type": "code",
   "execution_count": 9,
   "id": "dbe4410c",
   "metadata": {},
   "outputs": [
    {
     "name": "stdout",
     "output_type": "stream",
     "text": [
      "enter the name: Komal\n",
      "enter the name: Suupriya\n",
      "enter the name: Divya\n",
      "enter the name: Mayuri\n",
      "enter the name: Savi\n",
      "please enter the  Komal Data\n",
      "enter the marks: 99\n",
      "enter the marks: 77\n",
      "enter the marks: 88\n",
      "please enter the  Suupriya Data\n",
      "enter the marks: 99\n",
      "enter the marks: 77\n",
      "enter the marks: 77\n",
      "please enter the  Divya Data\n",
      "enter the marks: 77\n",
      "enter the marks: 88\n",
      "enter the marks: 99\n",
      "please enter the  Mayuri Data\n",
      "enter the marks: 99\n",
      "enter the marks: 98\n",
      "enter the marks: 99\n",
      "please enter the  Savi Data\n",
      "enter the marks: 98\n",
      "enter the marks: 98\n",
      "enter the marks: 89\n",
      "my details:  ['Komal', 'my marks are: ', 99, 77, 88, 'my total marks are: ', 264, 'my average:', 88.0, 'Suupriya', 'my marks are: ', 99, 77, 77, 'my total marks are: ', 253, 'my average:', 84.33333333333333, 'Divya', 'my marks are: ', 77, 88, 99, 'my total marks are: ', 264, 'my average:', 88.0, 'Mayuri', 'my marks are: ', 99, 98, 99, 'my total marks are: ', 296, 'my average:', 98.66666666666667, 'Savi', 'my marks are: ', 98, 98, 89, 'my total marks are: ', 285, 'my average:', 95.0]\n",
      "my student:  ['Komal', 'Suupriya', 'Divya', 'Mayuri', 'Savi']\n"
     ]
    }
   ],
   "source": [
    "stud=[]\n",
    "details=[]\n",
    "temp=[]\n",
    "for x in range(5):\n",
    "    name=input(\"enter the name: \")\n",
    "    stud.append(name)\n",
    "for x1 in stud:\n",
    "    details.append(x1)\n",
    "    details.append(\"my marks are: \")\n",
    "    print(\"please enter the \",x1,\"Data\")\n",
    "    for x2 in range(3):\n",
    "        m=int(input(\"enter the marks: \"))\n",
    "        details.append(m)\n",
    "        temp.append(m)\n",
    "    total=sum(temp)\n",
    "    details.append(\"my total marks are: \")\n",
    "    details.append(total)\n",
    "    avg=total/len(temp)\n",
    "    details.append(\"my average:\")\n",
    "    details.append(avg)\n",
    "    temp.clear()\n",
    "print(\"my details: \",details)\n",
    "print(\"my student: \",stud)\n"
   ]
  }
 ],
 "metadata": {
  "kernelspec": {
   "display_name": "Python 3 (ipykernel)",
   "language": "python",
   "name": "python3"
  },
  "language_info": {
   "codemirror_mode": {
    "name": "ipython",
    "version": 3
   },
   "file_extension": ".py",
   "mimetype": "text/x-python",
   "name": "python",
   "nbconvert_exporter": "python",
   "pygments_lexer": "ipython3",
   "version": "3.9.7"
  }
 },
 "nbformat": 4,
 "nbformat_minor": 5
}
