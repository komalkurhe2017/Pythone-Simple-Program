{
 "cells": [
  {
   "cell_type": "code",
   "execution_count": 1,
   "id": "528b796a",
   "metadata": {},
   "outputs": [],
   "source": [
    "a=[\"Komal\",\"Riya\",\"Divya\",\"Savi\",\"Sayli\"]"
   ]
  },
  {
   "cell_type": "code",
   "execution_count": 2,
   "id": "40d77ff8",
   "metadata": {},
   "outputs": [
    {
     "data": {
      "text/plain": [
       "['Komal', 'Riya', 'Divya', 'Savi', 'Sayli']"
      ]
     },
     "execution_count": 2,
     "metadata": {},
     "output_type": "execute_result"
    }
   ],
   "source": [
    "a"
   ]
  },
  {
   "cell_type": "code",
   "execution_count": 3,
   "id": "a2008719",
   "metadata": {},
   "outputs": [],
   "source": [
    "Name=[\"Komal\",\"Riya\",\"Divya\",\"Savi\",\"Sayli\"]\n",
    "City=[\"Nagar\",\"Belapur\",\"Shrirampur\",\"Pune\",\"Nagpur\"]"
   ]
  },
  {
   "cell_type": "code",
   "execution_count": 4,
   "id": "22e8a719",
   "metadata": {},
   "outputs": [
    {
     "data": {
      "text/plain": [
       "['Nagar', 'Belapur', 'Shrirampur', 'Pune', 'Nagpur']"
      ]
     },
     "execution_count": 4,
     "metadata": {},
     "output_type": "execute_result"
    }
   ],
   "source": [
    "\n",
    "City"
   ]
  },
  {
   "cell_type": "code",
   "execution_count": 5,
   "id": "e78eb58d",
   "metadata": {},
   "outputs": [
    {
     "data": {
      "text/plain": [
       "['Komal', 'Riya', 'Divya', 'Savi', 'Sayli']"
      ]
     },
     "execution_count": 5,
     "metadata": {},
     "output_type": "execute_result"
    }
   ],
   "source": [
    "Name"
   ]
  },
  {
   "cell_type": "code",
   "execution_count": 6,
   "id": "ad0f28f3",
   "metadata": {},
   "outputs": [],
   "source": [
    "Name.append(\"Pune\")"
   ]
  },
  {
   "cell_type": "code",
   "execution_count": 7,
   "id": "5736a778",
   "metadata": {},
   "outputs": [
    {
     "data": {
      "text/plain": [
       "['Komal', 'Riya', 'Divya', 'Savi', 'Sayli', 'Pune']"
      ]
     },
     "execution_count": 7,
     "metadata": {},
     "output_type": "execute_result"
    }
   ],
   "source": [
    "Name"
   ]
  },
  {
   "cell_type": "code",
   "execution_count": 8,
   "id": "6dd4cef5",
   "metadata": {},
   "outputs": [],
   "source": [
    "City.insert(2,\"Kolhapur\")"
   ]
  },
  {
   "cell_type": "code",
   "execution_count": 9,
   "id": "ce629474",
   "metadata": {},
   "outputs": [
    {
     "data": {
      "text/plain": [
       "['Nagar', 'Belapur', 'Kolhapur', 'Shrirampur', 'Pune', 'Nagpur']"
      ]
     },
     "execution_count": 9,
     "metadata": {},
     "output_type": "execute_result"
    }
   ],
   "source": [
    "City"
   ]
  },
  {
   "cell_type": "code",
   "execution_count": 10,
   "id": "765c0e44",
   "metadata": {},
   "outputs": [
    {
     "data": {
      "text/plain": [
       "'Kolhapur'"
      ]
     },
     "execution_count": 10,
     "metadata": {},
     "output_type": "execute_result"
    }
   ],
   "source": [
    "City.pop(2)"
   ]
  },
  {
   "cell_type": "code",
   "execution_count": 11,
   "id": "5fc3c2d5",
   "metadata": {},
   "outputs": [
    {
     "data": {
      "text/plain": [
       "3"
      ]
     },
     "execution_count": 11,
     "metadata": {},
     "output_type": "execute_result"
    }
   ],
   "source": [
    "City.index(\"Pune\")"
   ]
  },
  {
   "cell_type": "code",
   "execution_count": 12,
   "id": "e0b9c003",
   "metadata": {},
   "outputs": [],
   "source": [
    "City.remove(\"Pune\")"
   ]
  },
  {
   "cell_type": "code",
   "execution_count": 13,
   "id": "e0e3ec60",
   "metadata": {},
   "outputs": [
    {
     "data": {
      "text/plain": [
       "['Nagar', 'Belapur', 'Shrirampur', 'Nagpur']"
      ]
     },
     "execution_count": 13,
     "metadata": {},
     "output_type": "execute_result"
    }
   ],
   "source": [
    "City"
   ]
  },
  {
   "cell_type": "code",
   "execution_count": 14,
   "id": "d301aa3c",
   "metadata": {},
   "outputs": [],
   "source": [
    "City=a[2]"
   ]
  },
  {
   "cell_type": "code",
   "execution_count": 15,
   "id": "dc5630f9",
   "metadata": {},
   "outputs": [
    {
     "data": {
      "text/plain": [
       "'Divya'"
      ]
     },
     "execution_count": 15,
     "metadata": {},
     "output_type": "execute_result"
    }
   ],
   "source": [
    "City"
   ]
  },
  {
   "cell_type": "code",
   "execution_count": 17,
   "id": "daff0573",
   "metadata": {},
   "outputs": [
    {
     "name": "stdout",
     "output_type": "stream",
     "text": [
      "Enter the value:  11\n",
      "Enter the value:  21\n",
      "NOOO\n",
      "NOOO\n",
      "NOOO\n",
      "NOOO\n",
      "NOOO\n"
     ]
    }
   ],
   "source": [
    "a=input(\"Enter the value:  \")\n",
    "b=input(\"Enter the value:  \")\n",
    "for x in City:\n",
    "    if x==\"Belapur\":\n",
    "        print(\"Addition\",a+b)\n",
    "    else:\n",
    "        print(\"NOOO\")\n",
    "        \n",
    "    "
   ]
  },
  {
   "cell_type": "code",
   "execution_count": 21,
   "id": "50966c05",
   "metadata": {},
   "outputs": [
    {
     "name": "stdout",
     "output_type": "stream",
     "text": [
      "Girls is in Student Hostel ['Komal', 'Sapana', 'Supriya', 'Divya']\n",
      "Boys is in Student Hostel ['Ajay', 'Mahesh', 'Vishal', 'Pratik']\n",
      "outside ['Madhuri', 'Sumit', 'Sunil']\n"
     ]
    }
   ],
   "source": [
    "Stud=[\"Komal\",\"Madhuri\",\"Sapana\",\"Supriya\",\"Divya\",\"Ajay\",\"Mahesh\",\"Vishal\",\"Pratik\",\"Sumit\",\"Sunil\"]\n",
    "Boys=[\"Ajay\",\"Mahesh\",\"Vishal\",\"Pratik\"]\n",
    "Girls=[\"Komal\",\"Sapana\",\"Supriya\",\"Divya\"]\n",
    "Boys_new=[]\n",
    "Girls_new=[]\n",
    "other=[]\n",
    "for x in Stud:\n",
    "    if x in Girls:\n",
    "        Girls_new.append(x)\n",
    "    elif x in Boys:\n",
    "        Boys_new.append(x)\n",
    "    else:\n",
    "        other.append(x)\n",
    "\n",
    "print(\"Girls is in Student Hostel\",Girls_new)\n",
    "print(\"Boys is in Student Hostel\",Boys_new)\n",
    "print(\"outside\",other)\n",
    "\n",
    "    \n"
   ]
  },
  {
   "cell_type": "code",
   "execution_count": 29,
   "id": "b8e63e3c",
   "metadata": {},
   "outputs": [
    {
     "name": "stdout",
     "output_type": "stream",
     "text": [
      "City ['Pune', 'Shrirampur', 'Satara', 'Mumbai']\n",
      "City ['Belapur', 'Nagar']\n"
     ]
    }
   ],
   "source": [
    "#City\n",
    "#count\n",
    "#even/odd\n",
    "City=[\"Pune\",\"Shrirampur\",\"Belapur\",\"Satara\",\"Nagar\",\"Mumbai\"]\n",
    "even=[]\n",
    "odd=[]\n",
    "for x in City:\n",
    "    l=len(x)\n",
    "    if l%2==0:\n",
    "        even.append(x)\n",
    "    else:\n",
    "        odd.append(x)\n",
    "\n",
    "print(\"City\",even)\n",
    "print(\"City\",odd)\n",
    "       \n",
    "    \n",
    "    \n"
   ]
  }
 ],
 "metadata": {
  "kernelspec": {
   "display_name": "Python 3 (ipykernel)",
   "language": "python",
   "name": "python3"
  },
  "language_info": {
   "codemirror_mode": {
    "name": "ipython",
    "version": 3
   },
   "file_extension": ".py",
   "mimetype": "text/x-python",
   "name": "python",
   "nbconvert_exporter": "python",
   "pygments_lexer": "ipython3",
   "version": "3.9.7"
  }
 },
 "nbformat": 4,
 "nbformat_minor": 5
}
