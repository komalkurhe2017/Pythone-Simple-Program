{
 "cells": [
  {
   "cell_type": "code",
   "execution_count": 3,
   "id": "66a9474a",
   "metadata": {},
   "outputs": [
    {
     "name": "stdout",
     "output_type": "stream",
     "text": [
      "30\n"
     ]
    },
    {
     "data": {
      "text/plain": [
       "10"
      ]
     },
     "execution_count": 3,
     "metadata": {},
     "output_type": "execute_result"
    }
   ],
   "source": [
    "class person:\n",
    "    def data(self):\n",
    "        self.a=10\n",
    "        self.b=20\n",
    "        print(self.a+self.b)\n",
    "obj=person()\n",
    "obj.data()\n",
    "obj.a"
   ]
  },
  {
   "cell_type": "code",
   "execution_count": 7,
   "id": "297a1719",
   "metadata": {},
   "outputs": [
    {
     "name": "stdout",
     "output_type": "stream",
     "text": [
      "30\n"
     ]
    }
   ],
   "source": [
    "class person:\n",
    "    def data(self):\n",
    "        self.a=10\n",
    "        self.b=20\n",
    "    def show(self):\n",
    "    \n",
    "        print(self.a+self.b)\n",
    "obj=person()\n",
    "obj.data()\n",
    "obj.show()"
   ]
  },
  {
   "cell_type": "code",
   "execution_count": 11,
   "id": "0e668127",
   "metadata": {},
   "outputs": [
    {
     "name": "stdout",
     "output_type": "stream",
     "text": [
      "30\n",
      "30\n",
      "30\n",
      "30\n",
      "30\n",
      "30\n",
      "30\n",
      "30\n",
      "30\n",
      "30\n"
     ]
    }
   ],
   "source": [
    "class person:\n",
    "    def data(self):\n",
    "        self.a=10\n",
    "        self.b=20\n",
    "    def show(self):\n",
    "        for x in range(self.a):\n",
    "            print(self.a+self.b)\n",
    "obj=person()\n",
    "obj.data()\n",
    "obj.show()"
   ]
  },
  {
   "cell_type": "code",
   "execution_count": 12,
   "id": "fef1a0cb",
   "metadata": {},
   "outputs": [
    {
     "name": "stdout",
     "output_type": "stream",
     "text": [
      "Please Enter the value:  4\n",
      "7\n",
      "7\n",
      "7\n",
      "7\n",
      "Enter the name:  Komal\n",
      "Students:  ['Komal']\n",
      "Enter the name:  Divya\n",
      "Students:  ['Komal', 'Divya']\n",
      "Enter the name:  Supriya\n",
      "Students:  ['Komal', 'Divya', 'Supriya']\n",
      "Enter the name:  Mayuri\n",
      "Students:  ['Komal', 'Divya', 'Supriya', 'Mayuri']\n"
     ]
    }
   ],
   "source": [
    "class person:\n",
    "    \n",
    "    def data(self):\n",
    "        self.a=int(input(\"Please Enter the value:  \"))\n",
    "        self.b=3\n",
    "    def show(self):\n",
    "        for x in range(self.a):\n",
    "            print(self.a+self.b)\n",
    "    def info(self):\n",
    "        name=[]\n",
    "        for x1 in range(self.a):\n",
    "            m=input(\"Enter the name:  \")\n",
    "            name.append(m)\n",
    "            print(\"Students: \",name)\n",
    "obj=person()\n",
    "obj.data()\n",
    "obj.show()\n",
    "obj.info()"
   ]
  },
  {
   "cell_type": "code",
   "execution_count": 15,
   "id": "faf3a316",
   "metadata": {},
   "outputs": [
    {
     "name": "stdout",
     "output_type": "stream",
     "text": [
      "Please Enter the value:  1\n",
      "4\n",
      "Enter the name:  komal\n"
     ]
    },
    {
     "ename": "NameError",
     "evalue": "name 'name' is not defined",
     "output_type": "error",
     "traceback": [
      "\u001b[1;31m---------------------------------------------------------------------------\u001b[0m",
      "\u001b[1;31mNameError\u001b[0m                                 Traceback (most recent call last)",
      "\u001b[1;32m~\\AppData\\Local\\Temp/ipykernel_7552/739524846.py\u001b[0m in \u001b[0;36m<module>\u001b[1;34m\u001b[0m\n\u001b[0;32m     20\u001b[0m \u001b[0mobj\u001b[0m\u001b[1;33m.\u001b[0m\u001b[0mdata\u001b[0m\u001b[1;33m(\u001b[0m\u001b[1;33m)\u001b[0m\u001b[1;33m\u001b[0m\u001b[1;33m\u001b[0m\u001b[0m\n\u001b[0;32m     21\u001b[0m \u001b[0mobj\u001b[0m\u001b[1;33m.\u001b[0m\u001b[0mshow\u001b[0m\u001b[1;33m(\u001b[0m\u001b[1;33m)\u001b[0m\u001b[1;33m\u001b[0m\u001b[1;33m\u001b[0m\u001b[0m\n\u001b[1;32m---> 22\u001b[1;33m \u001b[0mobj\u001b[0m\u001b[1;33m.\u001b[0m\u001b[0minfo\u001b[0m\u001b[1;33m(\u001b[0m\u001b[1;33m)\u001b[0m\u001b[1;33m\u001b[0m\u001b[1;33m\u001b[0m\u001b[0m\n\u001b[0m\u001b[0;32m     23\u001b[0m \u001b[0mobj\u001b[0m\u001b[1;33m.\u001b[0m\u001b[0mData3\u001b[0m\u001b[1;33m(\u001b[0m\u001b[1;33m)\u001b[0m\u001b[1;33m\u001b[0m\u001b[1;33m\u001b[0m\u001b[0m\n",
      "\u001b[1;32m~\\AppData\\Local\\Temp/ipykernel_7552/739524846.py\u001b[0m in \u001b[0;36minfo\u001b[1;34m(self)\u001b[0m\n\u001b[0;32m     13\u001b[0m         \u001b[1;32mfor\u001b[0m \u001b[0mx1\u001b[0m \u001b[1;32min\u001b[0m \u001b[0mrange\u001b[0m\u001b[1;33m(\u001b[0m\u001b[0mself\u001b[0m\u001b[1;33m.\u001b[0m\u001b[0ma\u001b[0m\u001b[1;33m)\u001b[0m\u001b[1;33m:\u001b[0m\u001b[1;33m\u001b[0m\u001b[1;33m\u001b[0m\u001b[0m\n\u001b[0;32m     14\u001b[0m             \u001b[0mm\u001b[0m\u001b[1;33m=\u001b[0m\u001b[0minput\u001b[0m\u001b[1;33m(\u001b[0m\u001b[1;34m\"Enter the name:  \"\u001b[0m\u001b[1;33m)\u001b[0m\u001b[1;33m\u001b[0m\u001b[1;33m\u001b[0m\u001b[0m\n\u001b[1;32m---> 15\u001b[1;33m             \u001b[0mname\u001b[0m\u001b[1;33m.\u001b[0m\u001b[0mappend\u001b[0m\u001b[1;33m(\u001b[0m\u001b[0mm\u001b[0m\u001b[1;33m)\u001b[0m\u001b[1;33m\u001b[0m\u001b[1;33m\u001b[0m\u001b[0m\n\u001b[0m\u001b[0;32m     16\u001b[0m             \u001b[0mprint\u001b[0m\u001b[1;33m(\u001b[0m\u001b[1;34m\"Students: \"\u001b[0m\u001b[1;33m,\u001b[0m\u001b[0mname\u001b[0m\u001b[1;33m)\u001b[0m\u001b[1;33m\u001b[0m\u001b[1;33m\u001b[0m\u001b[0m\n\u001b[0;32m     17\u001b[0m     \u001b[1;32mdef\u001b[0m \u001b[0mData3\u001b[0m\u001b[1;33m(\u001b[0m\u001b[0mself\u001b[0m\u001b[1;33m)\u001b[0m\u001b[1;33m:\u001b[0m\u001b[1;33m\u001b[0m\u001b[1;33m\u001b[0m\u001b[0m\n",
      "\u001b[1;31mNameError\u001b[0m: name 'name' is not defined"
     ]
    }
   ],
   "source": [
    "class person:\n",
    "    global a\n",
    "    a=[]\n",
    "    \n",
    "    def data(self):\n",
    "        self.a=int(input(\"Please Enter the value:  \"))\n",
    "        self.b=3\n",
    "    def show(self):\n",
    "        for x in range(self.a):\n",
    "            print(self.a+self.b)\n",
    "    def info(self):\n",
    "       # name=[]\n",
    "        for x1 in range(self.a):\n",
    "            m=input(\"Enter the name:  \")\n",
    "            name.append(m)\n",
    "            print(\"Students: \",name)\n",
    "    def Data3(self):\n",
    "        print(\"My Stud: \",name)\n",
    "obj=person()\n",
    "obj.data()\n",
    "obj.show()\n",
    "obj.info()\n",
    "obj.Data3()"
   ]
  },
  {
   "cell_type": "code",
   "execution_count": null,
   "id": "10002e22",
   "metadata": {},
   "outputs": [],
   "source": []
  },
  {
   "cell_type": "code",
   "execution_count": null,
   "id": "0400d2b0",
   "metadata": {},
   "outputs": [],
   "source": []
  },
  {
   "cell_type": "code",
   "execution_count": null,
   "id": "d0a58073",
   "metadata": {},
   "outputs": [],
   "source": []
  }
 ],
 "metadata": {
  "kernelspec": {
   "display_name": "Python 3 (ipykernel)",
   "language": "python",
   "name": "python3"
  },
  "language_info": {
   "codemirror_mode": {
    "name": "ipython",
    "version": 3
   },
   "file_extension": ".py",
   "mimetype": "text/x-python",
   "name": "python",
   "nbconvert_exporter": "python",
   "pygments_lexer": "ipython3",
   "version": "3.9.7"
  }
 },
 "nbformat": 4,
 "nbformat_minor": 5
}
